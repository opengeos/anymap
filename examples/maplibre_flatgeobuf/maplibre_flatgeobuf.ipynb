{
 "cells": [
  {
   "cell_type": "markdown",
   "id": "0",
   "metadata": {},
   "source": [
    "# Add FlatGeobuf layers"
   ]
  },
  {
   "cell_type": "code",
   "execution_count": null,
   "id": "1",
   "metadata": {},
   "outputs": [],
   "source": [
    "from anymap.maplibre import MapLibreMap\n",
    "\n",
    "m = MapLibreMap()\n",
    "m.add_basemap(\"Esri.WorldImagery\")\n",
    "m.add_flatgeobuf_layer(\n",
    "    \"https://flatgeobuf.org/test/data/UScounties.fgb\",\n",
    "    layer_id=\"counties\",\n",
    "    layer_type=\"fill\",\n",
    "    paint={\n",
    "        \"fill-color\": \"#f97316\",\n",
    "        \"fill-outline-color\": \"#ffffff\",\n",
    "        \"fill-opacity\": 0.7,\n",
    "    },\n",
    ")\n",
    "\n",
    "m.enable_feature_popup(\n",
    "    \"counties\",\n",
    "    # fields=[\"NAME\", \"STATEFP\", \"ALAND\"],\n",
    "    # aliases={\"NAME\": \"County\", \"STATEFP\": \"State\", \"ALAND\": \"Area (m²)\"},\n",
    "    # title_field=\"NAME\",\n",
    "    max_properties=10,\n",
    ")\n",
    "m"
   ]
  },
  {
   "cell_type": "code",
   "execution_count": null,
   "id": "2",
   "metadata": {},
   "outputs": [],
   "source": [
    "m.disable_feature_popup(layer_id=\"counties\")"
   ]
  }
 ],
 "metadata": {
  "kernelspec": {
   "display_name": "Python 3",
   "language": "python",
   "name": "python3"
  },
  "language_info": {
   "codemirror_mode": {
    "name": "ipython",
    "version": 3
   },
   "file_extension": ".py",
   "mimetype": "text/x-python",
   "name": "python",
   "nbconvert_exporter": "python",
   "pygments_lexer": "ipython3",
   "version": "3.12.2"
  }
 },
 "nbformat": 4,
 "nbformat_minor": 5
}
