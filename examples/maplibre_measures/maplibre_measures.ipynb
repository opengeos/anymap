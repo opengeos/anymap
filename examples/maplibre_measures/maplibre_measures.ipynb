{
 "cells": [
  {
   "cell_type": "markdown",
   "id": "0",
   "metadata": {},
   "source": [
    "# MapLibre Measures Control Example\n",
    "\n",
    "This notebook demonstrates how to use the measures control with MapLibre GL JS maps in AnyMap. The measures control allows users to measure distances along lines and calculate areas within polygons."
   ]
  },
  {
   "cell_type": "code",
   "execution_count": null,
   "id": "1",
   "metadata": {},
   "outputs": [],
   "source": [
    "from anymap import MapLibreMap"
   ]
  },
  {
   "cell_type": "markdown",
   "id": "2",
   "metadata": {},
   "source": [
    "## Basic Measures Control (Metric Units)\n",
    "\n",
    "Create a map with a measures control using metric units (default). Click the line icon to measure distances, or the polygon icon to measure areas:"
   ]
  },
  {
   "cell_type": "code",
   "execution_count": null,
   "id": "3",
   "metadata": {},
   "outputs": [],
   "source": [
    "# Create a MapLibre map\n",
    "m = MapLibreMap(\n",
    "    center=[-87.61694, 41.86625], zoom=10, style=\"positron\", height=\"600px\"  # Chicago\n",
    ")\n",
    "\n",
    "# Add a measures control with metric units (default)\n",
    "m.add_measures_control(position=\"top-left\", units=\"metric\")\n",
    "\n",
    "m"
   ]
  },
  {
   "cell_type": "markdown",
   "id": "4",
   "metadata": {},
   "source": [
    "## Imperial Units\n",
    "\n",
    "You can also use imperial units (miles, feet) for measurements:"
   ]
  },
  {
   "cell_type": "code",
   "execution_count": null,
   "id": "5",
   "metadata": {},
   "outputs": [],
   "source": [
    "# Create a map with imperial units\n",
    "m_imperial = MapLibreMap(\n",
    "    center=[-118.2437, 34.0522],  # Los Angeles\n",
    "    zoom=11,\n",
    "    style=\"positron\",\n",
    "    height=\"600px\",\n",
    ")\n",
    "\n",
    "# Add measures control with imperial units\n",
    "m_imperial.add_measures_control(position=\"top-left\", units=\"imperial\")\n",
    "\n",
    "m_imperial"
   ]
  },
  {
   "cell_type": "markdown",
   "id": "6",
   "metadata": {},
   "source": [
    "## Custom Button Titles\n",
    "\n",
    "You can customize the button titles for different measurement tools:"
   ]
  },
  {
   "cell_type": "code",
   "execution_count": null,
   "id": "7",
   "metadata": {},
   "outputs": [],
   "source": [
    "# Create a map with custom button titles\n",
    "m_custom = MapLibreMap(\n",
    "    center=[2.3522, 48.8566], zoom=12, style=\"liberty\", height=\"600px\"  # Paris\n",
    ")\n",
    "\n",
    "# Add measures control with custom titles\n",
    "m_custom.add_measures_control(\n",
    "    position=\"top-right\",\n",
    "    units=\"metric\",\n",
    "    area_button_title=\"Measure Area\",\n",
    "    length_button_title=\"Measure Distance\",\n",
    "    clear_button_title=\"Clear All Measurements\",\n",
    ")\n",
    "\n",
    "m_custom"
   ]
  },
  {
   "cell_type": "markdown",
   "id": "8",
   "metadata": {},
   "source": [
    "## Custom Styling Options\n",
    "\n",
    "You can customize the appearance of measurement lines and polygons:"
   ]
  },
  {
   "cell_type": "code",
   "execution_count": null,
   "id": "9",
   "metadata": {},
   "outputs": [],
   "source": [
    "# Create a map with custom styling\n",
    "m_styled = MapLibreMap(\n",
    "    center=[-0.1276, 51.5074], zoom=11, style=\"dark-matter\", height=\"600px\"  # London\n",
    ")\n",
    "\n",
    "# Add measures control with custom styling\n",
    "m_styled.add_measures_control(\n",
    "    position=\"top-left\",\n",
    "    units=\"metric\",\n",
    "    options={\n",
    "        # Customize text appearance\n",
    "        \"textColor\": \"#FFFF00\",\n",
    "        \"textHaloColor\": \"#000000\",\n",
    "        # Customize line measurements\n",
    "        \"lineColor\": \"#FF0000\",\n",
    "        \"lineWidth\": 3,\n",
    "        # Customize area measurements\n",
    "        \"fillColor\": \"#0000FF\",\n",
    "        \"fillOpacity\": 0.3,\n",
    "        # Customize midpoint markers\n",
    "        \"midPointColor\": \"#FF00FF\",\n",
    "        \"midPointRadius\": 4,\n",
    "    },\n",
    ")\n",
    "\n",
    "m_styled"
   ]
  },
  {
   "cell_type": "markdown",
   "id": "10",
   "metadata": {},
   "source": [
    "## Combining with Imagery\n",
    "\n",
    "The measures control works great with satellite imagery for real-world measurements:"
   ]
  },
  {
   "cell_type": "code",
   "execution_count": null,
   "id": "11",
   "metadata": {},
   "outputs": [],
   "source": [
    "# Create a map with satellite imagery\n",
    "m_satellite = MapLibreMap(\n",
    "    center=[-74.0059, 40.7128], zoom=13, height=\"600px\"  # New York City\n",
    ")\n",
    "\n",
    "# Add satellite basemap\n",
    "m_satellite.add_basemap(\"Esri.WorldImagery\")\n",
    "\n",
    "# Add measures control\n",
    "m_satellite.add_measures_control(position=\"top-left\", units=\"imperial\")\n",
    "\n",
    "# Add navigation control for easier zooming\n",
    "m_satellite.add_control(\"navigation\", \"top-right\")\n",
    "\n",
    "m_satellite"
   ]
  },
  {
   "cell_type": "markdown",
   "id": "12",
   "metadata": {},
   "source": [
    "## Export to HTML\n",
    "\n",
    "The measures control is preserved when exporting to HTML:"
   ]
  },
  {
   "cell_type": "code",
   "execution_count": null,
   "id": "13",
   "metadata": {},
   "outputs": [],
   "source": [
    "# Export the map with measures control to HTML\n",
    "m.to_html(\"measures_map.html\")\n",
    "print(\"Map with measures control exported to measures_map.html\")"
   ]
  },
  {
   "cell_type": "markdown",
   "id": "14",
   "metadata": {},
   "source": [
    "## Multiple Controls Example\n",
    "\n",
    "The measures control works well with other map controls and features:"
   ]
  },
  {
   "cell_type": "code",
   "execution_count": null,
   "id": "15",
   "metadata": {},
   "outputs": [],
   "source": [
    "# Create a comprehensive map with multiple controls\n",
    "m_comprehensive = MapLibreMap(\n",
    "    center=[139.6917, 35.6895], zoom=10, style=\"positron\", height=\"600px\"  # Tokyo\n",
    ")\n",
    "\n",
    "# Add various controls\n",
    "m_comprehensive.add_measures_control(position=\"top-left\", units=\"metric\")\n",
    "m_comprehensive.add_control(\"navigation\", \"top-right\")\n",
    "m_comprehensive.add_control(\"fullscreen\", \"top-right\")\n",
    "m_comprehensive.add_control(\"scale\", \"bottom-left\")\n",
    "\n",
    "# Add a basemap\n",
    "m_comprehensive.add_basemap(\"OpenStreetMap.Mapnik\")\n",
    "\n",
    "m_comprehensive"
   ]
  },
  {
   "cell_type": "markdown",
   "id": "16",
   "metadata": {},
   "source": [
    "## Remove Measures Control\n",
    "\n",
    "You can also remove the measures control when it's no longer needed:"
   ]
  },
  {
   "cell_type": "code",
   "execution_count": null,
   "id": "17",
   "metadata": {},
   "outputs": [],
   "source": [
    "# Create a map and add measures control\n",
    "m_removable = MapLibreMap(\n",
    "    center=[13.4050, 52.5200], zoom=11, style=\"positron\", height=\"600px\"  # Berlin\n",
    ")\n",
    "\n",
    "m_removable.add_measures_control(position=\"top-left\")\n",
    "\n",
    "# Uncomment the line below to remove the measures control\n",
    "# m_removable.remove_measures_control(position=\"top-left\")\n",
    "\n",
    "m_removable"
   ]
  }
 ],
 "metadata": {
  "kernelspec": {
   "display_name": "geo",
   "language": "python",
   "name": "python3"
  },
  "language_info": {
   "codemirror_mode": {
    "name": "ipython",
    "version": 3
   },
   "file_extension": ".py",
   "mimetype": "text/x-python",
   "name": "python",
   "nbconvert_exporter": "python",
   "pygments_lexer": "ipython3",
   "version": "3.12.2"
  }
 },
 "nbformat": 4,
 "nbformat_minor": 5
}
