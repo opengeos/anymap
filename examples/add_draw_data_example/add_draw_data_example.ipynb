{
 "cells": [
  {
   "cell_type": "markdown",
   "metadata": {},
   "source": [
    "# Add Draw Data Example\n",
    "\n",
    "This notebook demonstrates the new `add_draw_data()` method in AnyMap, which allows you to append features to existing draw control data without clearing what's already there."
   ]
  },
  {
   "cell_type": "code",
   "execution_count": null,
   "metadata": {},
   "outputs": [],
   "source": [
    "from anymap import MapLibreMap\n",
    "import json\n",
    "\n",
    "print(\"AnyMap loaded successfully!\")"
   ]
  },
  {
   "cell_type": "markdown",
   "metadata": {},
   "source": [
    "## Difference between `load_draw_data` and `add_draw_data`\n",
    "\n",
    "- **`load_draw_data()`**: Replaces ALL existing features with new data\n",
    "- **`add_draw_data()`**: Appends new features to existing data (NEW!)\n",
    "\n",
    "This makes `add_draw_data()` perfect for:\n",
    "- Building up features programmatically\n",
    "- Adding data from multiple sources\n",
    "- Incrementally adding features without losing existing ones"
   ]
  },
  {
   "cell_type": "code",
   "execution_count": null,
   "metadata": {},
   "outputs": [],
   "source": [
    "# Create a map with draw control\n",
    "m = MapLibreMap(center=[-122.4194, 37.7749], zoom=13, height=\"600px\", style=\"liberty\")\n",
    "m.add_draw_control()\n",
    "\n",
    "# Start with initial data (this replaces any existing data)\n",
    "initial_data = {\n",
    "    \"type\": \"FeatureCollection\",\n",
    "    \"features\": [\n",
    "        {\n",
    "            \"type\": \"Feature\",\n",
    "            \"geometry\": {\"type\": \"Point\", \"coordinates\": [-122.4194, 37.7749]},\n",
    "            \"properties\": {\"name\": \"Initial Point\", \"color\": \"red\"},\n",
    "        }\n",
    "    ],\n",
    "}\n",
    "\n",
    "m.load_draw_data(initial_data)\n",
    "print(f\"✓ Loaded initial data: {len(m.get_draw_data()['features'])} features\")\n",
    "\n",
    "m"
   ]
  },
  {
   "cell_type": "code",
   "execution_count": null,
   "metadata": {},
   "outputs": [],
   "source": [
    "# Add a single point feature (appends to existing data)\n",
    "new_point = {\n",
    "    \"type\": \"Feature\",\n",
    "    \"geometry\": {\"type\": \"Point\", \"coordinates\": [-122.4150, 37.7700]},\n",
    "    \"properties\": {\"name\": \"Added Point\", \"color\": \"blue\"},\n",
    "}\n",
    "\n",
    "m.add_draw_data(new_point)"
   ]
  },
  {
   "cell_type": "code",
   "execution_count": null,
   "metadata": {},
   "outputs": [],
   "source": [
    "m.get_draw_data()"
   ]
  },
  {
   "cell_type": "code",
   "execution_count": null,
   "metadata": {},
   "outputs": [],
   "source": [
    "# Add multiple features at once using a FeatureCollection\n",
    "multiple_features = {\n",
    "    \"type\": \"FeatureCollection\",\n",
    "    \"features\": [\n",
    "        {\n",
    "            \"type\": \"Feature\",\n",
    "            \"geometry\": {\"type\": \"Point\", \"coordinates\": [-122.4100, 37.7750]},\n",
    "            \"properties\": {\"name\": \"Point 3\", \"color\": \"green\"},\n",
    "        },\n",
    "        {\n",
    "            \"type\": \"Feature\",\n",
    "            \"geometry\": {\n",
    "                \"type\": \"Polygon\",\n",
    "                \"coordinates\": [\n",
    "                    [\n",
    "                        [-122.4200, 37.7700],\n",
    "                        [-122.4180, 37.7700],\n",
    "                        [-122.4180, 37.7720],\n",
    "                        [-122.4200, 37.7720],\n",
    "                        [-122.4200, 37.7700],\n",
    "                    ]\n",
    "                ],\n",
    "            },\n",
    "            \"properties\": {\"name\": \"Sample Polygon\", \"color\": \"yellow\"},\n",
    "        },\n",
    "    ],\n",
    "}\n",
    "\n",
    "m.add_draw_data(multiple_features)\n",
    "print(\n",
    "    f\"✓ Added multiple features. Total features: {len(m.get_draw_data()['features'])}\"\n",
    ")"
   ]
  },
  {
   "cell_type": "code",
   "execution_count": null,
   "metadata": {},
   "outputs": [],
   "source": [
    "# Add a line feature programmatically\n",
    "line_feature = {\n",
    "    \"type\": \"Feature\",\n",
    "    \"geometry\": {\n",
    "        \"type\": \"LineString\",\n",
    "        \"coordinates\": [\n",
    "            [-122.4180, 37.7720],\n",
    "            [-122.4160, 37.7740],\n",
    "            [-122.4140, 37.7730],\n",
    "        ],\n",
    "    },\n",
    "    \"properties\": {\"name\": \"Route Line\", \"color\": \"purple\"},\n",
    "}\n",
    "\n",
    "m.add_draw_data(line_feature)\n",
    "final_count = len(m.get_draw_data()[\"features\"])\n",
    "print(f\"✓ Added line feature. Final total: {final_count} features\")\n",
    "\n",
    "# Display all features\n",
    "all_features = m.get_draw_data()[\"features\"]\n",
    "print(\"\\nAll features on the map:\")\n",
    "for i, feature in enumerate(all_features, 1):\n",
    "    geom_type = feature[\"geometry\"][\"type\"]\n",
    "    name = feature[\"properties\"].get(\"name\", f\"Feature {i}\")\n",
    "    print(f\"  {i}. {name} ({geom_type})\")"
   ]
  },
  {
   "cell_type": "markdown",
   "metadata": {},
   "source": [
    "## Comparison: `load_draw_data` vs `add_draw_data`\n",
    "\n",
    "Let's demonstrate the difference between the two methods:"
   ]
  },
  {
   "cell_type": "code",
   "execution_count": null,
   "metadata": {},
   "outputs": [],
   "source": [
    "# Create a new map to demonstrate the difference\n",
    "m2 = MapLibreMap(center=[-122.4194, 37.7749], zoom=13, height=\"400px\", style=\"light\")\n",
    "m2.add_draw_control()\n",
    "\n",
    "# Add some initial features\n",
    "points = {\n",
    "    \"type\": \"FeatureCollection\",\n",
    "    \"features\": [\n",
    "        {\n",
    "            \"type\": \"Feature\",\n",
    "            \"geometry\": {\"type\": \"Point\", \"coordinates\": [-122.41, 37.77]},\n",
    "            \"properties\": {\"name\": \"A\"},\n",
    "        },\n",
    "        {\n",
    "            \"type\": \"Feature\",\n",
    "            \"geometry\": {\"type\": \"Point\", \"coordinates\": [-122.42, 37.77]},\n",
    "            \"properties\": {\"name\": \"B\"},\n",
    "        },\n",
    "    ],\n",
    "}\n",
    "\n",
    "m2.add_draw_data(points)\n",
    "print(f\"After add_draw_data: {len(m2.get_draw_data()['features'])} features\")\n",
    "\n",
    "# Now use load_draw_data - this will REPLACE all existing features\n",
    "replacement_data = {\n",
    "    \"type\": \"FeatureCollection\",\n",
    "    \"features\": [\n",
    "        {\n",
    "            \"type\": \"Feature\",\n",
    "            \"geometry\": {\"type\": \"Point\", \"coordinates\": [-122.43, 37.78]},\n",
    "            \"properties\": {\"name\": \"C\"},\n",
    "        }\n",
    "    ],\n",
    "}\n",
    "\n",
    "m2.load_draw_data(replacement_data)\n",
    "print(\n",
    "    f\"After load_draw_data: {len(m2.get_draw_data()['features'])} features (replaced all!)\"\n",
    ")\n",
    "\n",
    "m2"
   ]
  },
  {
   "cell_type": "markdown",
   "metadata": {},
   "source": [
    "## Use Cases for `add_draw_data`\n",
    "\n",
    "The `add_draw_data` method is particularly useful for:\n",
    "\n",
    "1. **Progressive Data Loading**: Load data from multiple sources incrementally\n",
    "2. **User Interaction**: Add features based on user input or calculations\n",
    "3. **Data Integration**: Combine manual drawing with programmatic feature addition\n",
    "4. **Incremental Visualization**: Build up complex visualizations step by step\n",
    "\n",
    "### Method Signature:\n",
    "\n",
    "```python\n",
    "map.add_draw_data(geojson_data: Union[Dict[str, Any], str]) -> None\n",
    "```\n",
    "\n",
    "**Parameters:**\n",
    "- `geojson_data`: Can be a single Feature, FeatureCollection, or JSON string\n",
    "\n",
    "**Key Features:**\n",
    "- ✅ Appends features without clearing existing ones\n",
    "- ✅ Accepts both single Features and FeatureCollections  \n",
    "- ✅ Handles JSON strings automatically\n",
    "- ✅ Immediately syncs with JavaScript draw control\n",
    "- ✅ Maintains existing features on the map"
   ]
  }
 ],
 "metadata": {
  "kernelspec": {
   "display_name": "Python 3",
   "language": "python",
   "name": "python3"
  },
  "language_info": {
   "codemirror_mode": {
    "name": "ipython",
    "version": 3
   },
   "file_extension": ".py",
   "mimetype": "text/x-python",
   "name": "python",
   "nbconvert_exporter": "python",
   "pygments_lexer": "ipython3",
   "version": "3.12.2"
  }
 },
 "nbformat": 4,
 "nbformat_minor": 4
}
