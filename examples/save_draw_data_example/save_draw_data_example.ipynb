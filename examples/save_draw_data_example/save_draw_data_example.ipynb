{
 "cells": [
  {
   "cell_type": "markdown",
   "metadata": {},
   "source": [
    "# Save Draw Data Example\n",
    "\n",
    "This notebook demonstrates the new `save_draw_data()` method in AnyMap, which allows you to save drawn features to various file formats supported by GeoPandas."
   ]
  },
  {
   "cell_type": "markdown",
   "metadata": {},
   "source": [
    "## Installation Requirements\n",
    "\n",
    "The `save_draw_data` method requires GeoPandas to be installed:\n",
    "\n",
    "```bash\n",
    "pip install geopandas\n",
    "```"
   ]
  },
  {
   "cell_type": "markdown",
   "metadata": {},
   "source": [
    "## Basic Usage\n",
    "\n",
    "First, let's create a map and add a draw control:"
   ]
  },
  {
   "cell_type": "code",
   "execution_count": null,
   "metadata": {},
   "outputs": [],
   "source": [
    "from anymap.maplibre import MapLibreMap\n",
    "import tempfile\n",
    "import os\n",
    "\n",
    "# Create a map centered on New York City\n",
    "m = MapLibreMap(center=[-74.0, 40.7], zoom=10)\n",
    "m.add_basemap(\"OpenStreetMap.Mapnik\")\n",
    "\n",
    "# Add a draw control so users can draw features\n",
    "m.add_draw_control(\n",
    "    position=\"top-left\",\n",
    "    controls={\"point\": True, \"line_string\": True, \"polygon\": True, \"trash\": True},\n",
    ")\n",
    "\n",
    "m"
   ]
  },
  {
   "cell_type": "markdown",
   "metadata": {},
   "source": [
    "## Adding Sample Data\n",
    "\n",
    "Let's add some sample features for demonstration:"
   ]
  },
  {
   "cell_type": "code",
   "execution_count": null,
   "metadata": {},
   "outputs": [],
   "source": [
    "# Add some sample drawn features\n",
    "sample_features = {\n",
    "    \"type\": \"FeatureCollection\",\n",
    "    \"features\": [\n",
    "        {\n",
    "            \"type\": \"Feature\",\n",
    "            \"properties\": {\"name\": \"Central Park\", \"type\": \"park\"},\n",
    "            \"geometry\": {\"type\": \"Point\", \"coordinates\": [-73.9665, 40.7812]},\n",
    "        },\n",
    "        {\n",
    "            \"type\": \"Feature\",\n",
    "            \"properties\": {\"name\": \"Brooklyn Bridge\", \"type\": \"landmark\"},\n",
    "            \"geometry\": {\"type\": \"Point\", \"coordinates\": [-73.9969, 40.7061]},\n",
    "        },\n",
    "        {\n",
    "            \"type\": \"Feature\",\n",
    "            \"properties\": {\"name\": \"Manhattan Area\", \"type\": \"area\"},\n",
    "            \"geometry\": {\n",
    "                \"type\": \"Polygon\",\n",
    "                \"coordinates\": [\n",
    "                    [\n",
    "                        [-74.02, 40.70],\n",
    "                        [-73.93, 40.70],\n",
    "                        [-73.93, 40.80],\n",
    "                        [-74.02, 40.80],\n",
    "                        [-74.02, 40.70],\n",
    "                    ]\n",
    "                ],\n",
    "            },\n",
    "        },\n",
    "    ],\n",
    "}\n",
    "\n",
    "# Load the sample data into the draw control\n",
    "m.load_draw_data(sample_features)\n",
    "\n",
    "print(f\"Loaded {len(m.get_draw_data()['features'])} features\")"
   ]
  },
  {
   "cell_type": "markdown",
   "metadata": {},
   "source": [
    "## Saving to Different Formats\n",
    "\n",
    "Now let's demonstrate saving the drawn data to various formats:"
   ]
  },
  {
   "cell_type": "markdown",
   "metadata": {},
   "source": [
    "### Save to GeoJSON\n",
    "\n",
    "GeoJSON is the most common format for web mapping and supports all geometry types:"
   ]
  },
  {
   "cell_type": "code",
   "execution_count": null,
   "metadata": {},
   "outputs": [],
   "source": [
    "# Save to GeoJSON format\n",
    "geojson_path = \"/tmp/drawn_features.geojson\"\n",
    "m.save_draw_data(geojson_path)\n",
    "\n",
    "print(f\"✓ Saved to GeoJSON: {geojson_path}\")\n",
    "print(f\"File size: {os.path.getsize(geojson_path)} bytes\")"
   ]
  },
  {
   "cell_type": "markdown",
   "metadata": {},
   "source": [
    "### Save to GeoPackage\n",
    "\n",
    "GeoPackage is a modern, standards-based format that supports mixed geometry types:"
   ]
  },
  {
   "cell_type": "code",
   "execution_count": null,
   "metadata": {},
   "outputs": [],
   "source": [
    "# Save to GeoPackage format\n",
    "gpkg_path = \"/tmp/drawn_features.gpkg\"\n",
    "m.save_draw_data(gpkg_path)\n",
    "\n",
    "print(f\"✓ Saved to GeoPackage: {gpkg_path}\")\n",
    "print(f\"File size: {os.path.getsize(gpkg_path)} bytes\")"
   ]
  },
  {
   "cell_type": "markdown",
   "metadata": {},
   "source": [
    "### Save to Shapefile (Points Only)\n",
    "\n",
    "Shapefiles require all features to have the same geometry type. Let's create a map with only points:"
   ]
  },
  {
   "cell_type": "code",
   "execution_count": null,
   "metadata": {},
   "outputs": [],
   "source": [
    "# Create a new map with only point features\n",
    "m_points = MapLibreMap(center=[-74.0, 40.7], zoom=10)\n",
    "m_points.add_basemap(\"OpenStreetMap.Mapnik\")\n",
    "m_points.add_draw_control()\n",
    "\n",
    "# Add only point features\n",
    "point_features = {\n",
    "    \"type\": \"FeatureCollection\",\n",
    "    \"features\": [\n",
    "        {\n",
    "            \"type\": \"Feature\",\n",
    "            \"properties\": {\"name\": \"Central Park\", \"type\": \"park\"},\n",
    "            \"geometry\": {\"type\": \"Point\", \"coordinates\": [-73.9665, 40.7812]},\n",
    "        },\n",
    "        {\n",
    "            \"type\": \"Feature\",\n",
    "            \"properties\": {\"name\": \"Brooklyn Bridge\", \"type\": \"landmark\"},\n",
    "            \"geometry\": {\"type\": \"Point\", \"coordinates\": [-73.9969, 40.7061]},\n",
    "        },\n",
    "    ],\n",
    "}\n",
    "\n",
    "m_points.load_draw_data(point_features)\n",
    "\n",
    "# Now save to shapefile\n",
    "shp_path = \"/tmp/drawn_points.shp\"\n",
    "m_points.save_draw_data(shp_path)\n",
    "\n",
    "print(f\"✓ Saved points to Shapefile: {shp_path}\")\n",
    "print(\n",
    "    f\"Files created: {[f for f in os.listdir('/tmp') if f.startswith('drawn_points.')]}\"\n",
    ")\n",
    "\n",
    "m_points"
   ]
  },
  {
   "cell_type": "markdown",
   "metadata": {},
   "source": [
    "## Error Handling\n",
    "\n",
    "The `save_draw_data` method provides helpful error messages for common issues:"
   ]
  },
  {
   "cell_type": "markdown",
   "metadata": {},
   "source": [
    "### Mixed Geometry Types in Shapefile\n",
    "\n",
    "Let's see what happens when we try to save mixed geometry types to a shapefile:"
   ]
  },
  {
   "cell_type": "code",
   "execution_count": null,
   "metadata": {},
   "outputs": [],
   "source": [
    "# Try to save mixed geometry types to shapefile\n",
    "try:\n",
    "    m.save_draw_data(\"/tmp/mixed_geometries.shp\")\n",
    "except ValueError as e:\n",
    "    print(f\"Expected error: {e}\")"
   ]
  },
  {
   "cell_type": "markdown",
   "metadata": {},
   "source": [
    "### No Features to Save\n",
    "\n",
    "Let's see what happens when there are no drawn features:"
   ]
  },
  {
   "cell_type": "code",
   "execution_count": null,
   "metadata": {},
   "outputs": [],
   "source": [
    "# Create a map with no drawn features\n",
    "empty_map = MapLibreMap(center=[0, 0], zoom=2)\n",
    "\n",
    "try:\n",
    "    empty_map.save_draw_data(\"/tmp/empty.geojson\")\n",
    "except ValueError as e:\n",
    "    print(f\"Expected error: {e}\")"
   ]
  },
  {
   "cell_type": "markdown",
   "metadata": {},
   "source": [
    "## Loading Saved Data\n",
    "\n",
    "You can load the saved data back into a map or use it with other geospatial tools:"
   ]
  },
  {
   "cell_type": "code",
   "execution_count": null,
   "metadata": {},
   "outputs": [],
   "source": [
    "import json\n",
    "\n",
    "# Create a new map and load the saved GeoJSON data\n",
    "m_new = MapLibreMap(center=[-74.0, 40.7], zoom=10)\n",
    "m_new.add_basemap(\"OpenStreetMap.Mapnik\")\n",
    "m_new.add_draw_control()\n",
    "\n",
    "# Load the saved data\n",
    "with open(geojson_path, \"r\") as f:\n",
    "    saved_data = json.load(f)\n",
    "\n",
    "m_new.load_draw_data(saved_data)\n",
    "print(f\"Loaded {len(m_new.get_draw_data()['features'])} features from saved file\")\n",
    "\n",
    "m_new"
   ]
  },
  {
   "cell_type": "markdown",
   "metadata": {},
   "source": [
    "## Working with GeoPandas\n",
    "\n",
    "Since the save method uses GeoPandas, you can also work directly with the data:"
   ]
  },
  {
   "cell_type": "code",
   "execution_count": null,
   "metadata": {},
   "outputs": [],
   "source": [
    "import geopandas as gpd\n",
    "\n",
    "# Read the saved GeoJSON with GeoPandas\n",
    "gdf = gpd.read_file(geojson_path)\n",
    "\n",
    "print(\"GeoPandas DataFrame:\")\n",
    "print(gdf)\n",
    "print(f\"\\nCRS: {gdf.crs}\")\n",
    "print(f\"Geometry types: {gdf.geometry.geom_type.unique()}\")"
   ]
  },
  {
   "cell_type": "markdown",
   "metadata": {},
   "source": [
    "## Supported Formats\n",
    "\n",
    "The `save_draw_data` method supports all formats that GeoPandas can write to, including:\n",
    "\n",
    "- **GeoJSON** (`.geojson`) - Best for web applications, supports all geometry types\n",
    "- **GeoPackage** (`.gpkg`) - Modern SQLite-based format, supports all geometry types\n",
    "- **Shapefile** (`.shp`) - Traditional GIS format, requires same geometry type for all features\n",
    "- **KML** (`.kml`) - Google Earth format\n",
    "- **GML** (`.gml`) - OGC Geography Markup Language\n",
    "- **CSV** (`.csv`) - Only for point data without geometry\n",
    "\n",
    "You can also specify the driver explicitly:\n",
    "\n",
    "```python\n",
    "m.save_draw_data(\"output.gpkg\", driver=\"GPKG\")\n",
    "m.save_draw_data(\"output.shp\", driver=\"ESRI Shapefile\")\n",
    "```"
   ]
  },
  {
   "cell_type": "markdown",
   "metadata": {},
   "source": [
    "## Cleanup\n",
    "\n",
    "Clean up the temporary files:"
   ]
  },
  {
   "cell_type": "code",
   "execution_count": null,
   "metadata": {},
   "outputs": [],
   "source": [
    "# Clean up temporary files\n",
    "import glob\n",
    "\n",
    "for pattern in [\"/tmp/drawn_features.*\", \"/tmp/drawn_points.*\"]:\n",
    "    for file in glob.glob(pattern):\n",
    "        try:\n",
    "            os.remove(file)\n",
    "            print(f\"Removed {file}\")\n",
    "        except:\n",
    "            pass"
   ]
  },
  {
   "cell_type": "markdown",
   "metadata": {},
   "source": [
    "## Summary\n",
    "\n",
    "The `save_draw_data()` method provides a simple way to export drawn features from AnyMap to various geospatial file formats:\n",
    "\n",
    "1. **Easy to use**: Just call `map.save_draw_data(\"filename.geojson\")`\n",
    "2. **Multiple formats**: Supports all GeoPandas-compatible formats\n",
    "3. **Error handling**: Provides helpful error messages for common issues\n",
    "4. **Format detection**: Automatically detects format from file extension\n",
    "5. **CRS handling**: Automatically sets EPSG:4326 if no CRS is present\n",
    "\n",
    "This makes it easy to integrate drawn features with other geospatial workflows and tools!"
   ]
  }
 ],
 "metadata": {
  "kernelspec": {
   "display_name": "geo",
   "language": "python",
   "name": "python3"
  },
  "language_info": {
   "codemirror_mode": {
    "name": "ipython",
    "version": 3
   },
   "file_extension": ".py",
   "mimetype": "text/x-python",
   "name": "python",
   "nbconvert_exporter": "python",
   "pygments_lexer": "ipython3",
   "version": "3.12.2"
  }
 },
 "nbformat": 4,
 "nbformat_minor": 4
}
