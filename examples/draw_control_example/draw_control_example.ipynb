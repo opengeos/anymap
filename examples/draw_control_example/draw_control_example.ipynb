{
 "cells": [
  {
   "cell_type": "markdown",
   "metadata": {},
   "source": [
    "# Draw Control Support in AnyMap\n",
    "\n",
    "This notebook demonstrates how to use the draw control functionality with the MapLibre implementation in AnyMap. The draw control allows users to interactively draw and edit geometries on the map.\n",
    "\n",
    "## What is the Draw Control?\n",
    "\n",
    "The draw control is based on [mapbox-gl-draw](https://github.com/mapbox/mapbox-gl-draw) and provides:\n",
    "- Interactive drawing of points, lines, and polygons\n",
    "- Editing and deleting existing geometries\n",
    "- Loading existing GeoJSON data\n",
    "- Retrieving drawn features as GeoJSON\n",
    "- Programmatic control over drawing modes\n",
    "\n",
    "## Features\n",
    "\n",
    "- ✅ **Draw geometries**: Points, lines, and polygons\n",
    "- ✅ **Edit geometries**: Modify existing shapes\n",
    "- ✅ **Delete geometries**: Remove unwanted features\n",
    "- ✅ **Load data**: Import existing GeoJSON\n",
    "- ✅ **Export data**: Get drawn features as GeoJSON\n",
    "- ✅ **Mode control**: Switch between different drawing modes\n",
    "- ✅ **Event handling**: React to drawing events"
   ]
  },
  {
   "cell_type": "code",
   "execution_count": null,
   "metadata": {},
   "outputs": [],
   "source": [
    "# Import required modules\n",
    "from anymap import MapLibreMap\n",
    "import json\n",
    "\n",
    "print(\"AnyMap loaded successfully!\")\n",
    "print(\"Draw control support is built into the MapLibre implementation.\")"
   ]
  },
  {
   "cell_type": "markdown",
   "metadata": {},
   "source": [
    "## Example 1: Basic Draw Control\n",
    "\n",
    "Let's start with a simple example of adding a draw control to the map."
   ]
  },
  {
   "cell_type": "code",
   "execution_count": null,
   "metadata": {},
   "outputs": [],
   "source": [
    "# Create a map\n",
    "m = MapLibreMap(\n",
    "    center=[40.7749, -122.4194],  # San Francisco coordinates\n",
    "    zoom=12,\n",
    "    height=\"600px\",\n",
    "    style=\"positron\",\n",
    ")\n",
    "\n",
    "# Add draw control with default settings\n",
    "m.add_draw_control()\n",
    "\n",
    "print(\"Draw control added with default settings\")\n",
    "print(\"You can now draw points, lines, and polygons on the map!\")\n",
    "m"
   ]
  },
  {
   "cell_type": "markdown",
   "metadata": {},
   "source": [
    "**Instructions for the map above:**\n",
    "- Use the **point tool** (📍) to add points\n",
    "- Use the **line tool** (📏) to draw lines\n",
    "- Use the **polygon tool** (🔷) to draw polygons\n",
    "- Use the **trash tool** (🗑️) to delete selected features\n",
    "- Click and drag to select and move features"
   ]
  },
  {
   "cell_type": "markdown",
   "metadata": {},
   "source": [
    "## Example 2: Custom Draw Control Configuration\n",
    "\n",
    "You can customize which drawing tools are available and where the control is positioned."
   ]
  },
  {
   "cell_type": "code",
   "execution_count": null,
   "metadata": {},
   "outputs": [],
   "source": [
    "# Create a new map for custom configuration\n",
    "m2 = MapLibreMap(\n",
    "    center=[40.7749, -122.4194], zoom=13, height=\"600px\", style=\"dark-matter\"\n",
    ")\n",
    "\n",
    "# Add draw control with custom configuration\n",
    "m2.add_draw_control(\n",
    "    position=\"top-right\",  # Position the control on the top-right\n",
    "    controls={\n",
    "        \"point\": True,  # Enable point drawing\n",
    "        \"line_string\": False,  # Disable line drawing\n",
    "        \"polygon\": True,  # Enable polygon drawing\n",
    "        \"trash\": True,  # Enable delete tool\n",
    "    },\n",
    "    default_mode=\"draw_polygon\",  # Start in polygon drawing mode\n",
    "    keybindings=True,  # Enable keyboard shortcuts\n",
    "    touch_enabled=True,  # Enable touch interactions\n",
    ")\n",
    "\n",
    "print(\"Custom draw control added:\")\n",
    "print(\"- Position: top-right\")\n",
    "print(\"- Tools: points and polygons only\")\n",
    "print(\"- Default mode: polygon drawing\")\n",
    "m2"
   ]
  },
  {
   "cell_type": "markdown",
   "metadata": {},
   "source": [
    "## Example 3: Loading Existing GeoJSON Data\n",
    "\n",
    "You can load existing GeoJSON data into the draw control for editing."
   ]
  },
  {
   "cell_type": "code",
   "execution_count": null,
   "metadata": {},
   "outputs": [],
   "source": [
    "# Create sample GeoJSON data\n",
    "sample_geojson = {\n",
    "    \"type\": \"FeatureCollection\",\n",
    "    \"features\": [\n",
    "        {\n",
    "            \"type\": \"Feature\",\n",
    "            \"geometry\": {\"type\": \"Point\", \"coordinates\": [-122.4194, 37.7749]},\n",
    "            \"properties\": {\"name\": \"San Francisco City Hall\", \"type\": \"landmark\"},\n",
    "        },\n",
    "        {\n",
    "            \"type\": \"Feature\",\n",
    "            \"geometry\": {\n",
    "                \"type\": \"Polygon\",\n",
    "                \"coordinates\": [\n",
    "                    [\n",
    "                        [-122.4200, 37.7700],\n",
    "                        [-122.4150, 37.7700],\n",
    "                        [-122.4150, 37.7750],\n",
    "                        [-122.4200, 37.7750],\n",
    "                        [-122.4200, 37.7700],\n",
    "                    ]\n",
    "                ],\n",
    "            },\n",
    "            \"properties\": {\"name\": \"Sample Area\", \"type\": \"area\"},\n",
    "        },\n",
    "        {\n",
    "            \"type\": \"Feature\",\n",
    "            \"geometry\": {\n",
    "                \"type\": \"LineString\",\n",
    "                \"coordinates\": [\n",
    "                    [-122.4180, 37.7720],\n",
    "                    [-122.4160, 37.7740],\n",
    "                    [-122.4140, 37.7730],\n",
    "                ],\n",
    "            },\n",
    "            \"properties\": {\"name\": \"Sample Route\", \"type\": \"route\"},\n",
    "        },\n",
    "    ],\n",
    "}\n",
    "\n",
    "# Create a new map\n",
    "m3 = MapLibreMap(center=[37.7749, -122.4194], zoom=14, height=\"600px\", style=\"voyager\")\n",
    "\n",
    "# Add draw control\n",
    "m3.add_draw_control(position=\"top-left\")\n",
    "\n",
    "# Load the sample GeoJSON data\n",
    "m3.load_draw_data(sample_geojson)\n",
    "\n",
    "print(\"Loaded sample GeoJSON data:\")\n",
    "print(\"- 1 Point (City Hall)\")\n",
    "print(\"- 1 Polygon (Sample Area)\")\n",
    "print(\"- 1 LineString (Sample Route)\")\n",
    "print(\"\\nYou can now edit these existing features or draw new ones!\")\n",
    "m3"
   ]
  },
  {
   "cell_type": "markdown",
   "metadata": {},
   "source": [
    "## Example 4: Retrieving Draw Data\n",
    "\n",
    "You can retrieve the currently drawn features as GeoJSON."
   ]
  },
  {
   "cell_type": "code",
   "execution_count": null,
   "metadata": {},
   "outputs": [],
   "source": [
    "# Note: In a real Jupyter environment, you would draw some features on the map above\n",
    "# then run this cell to get the drawn data\n",
    "\n",
    "# Trigger retrieval of draw data\n",
    "draw_data = m3.get_draw_data()\n",
    "\n",
    "# The actual data will be available in the _draw_data trait\n",
    "print(\"Draw data retrieval triggered.\")\n",
    "print(\"In a real environment, drawn features would be available in m3._draw_data\")\n",
    "\n",
    "# You can also access it directly (this will be empty until features are drawn)\n",
    "current_draw_data = m3._draw_data\n",
    "print(f\"Current draw data: {current_draw_data}\")"
   ]
  },
  {
   "cell_type": "markdown",
   "metadata": {},
   "source": [
    "## Example 5: Draw Control Mode Management\n",
    "\n",
    "You can programmatically control the drawing mode."
   ]
  },
  {
   "cell_type": "code",
   "execution_count": null,
   "metadata": {},
   "outputs": [],
   "source": [
    "# Set different drawing modes\n",
    "print(\"Available drawing modes:\")\n",
    "print(\"- simple_select: Select and edit features\")\n",
    "print(\"- direct_select: Edit vertices of selected features\")\n",
    "print(\"- draw_point: Draw points\")\n",
    "print(\"- draw_line_string: Draw lines\")\n",
    "print(\"- draw_polygon: Draw polygons\")\n",
    "print(\"- static: Disable all interactions\")\n",
    "\n",
    "# Set the draw mode to polygon drawing\n",
    "m3.set_draw_mode(\"draw_polygon\")\n",
    "print(\"\\n✓ Set mode to polygon drawing\")\n",
    "\n",
    "# You can change modes programmatically\n",
    "print(\"\\nTry drawing a polygon, then run the next cell to switch to point mode\")"
   ]
  },
  {
   "cell_type": "code",
   "execution_count": null,
   "metadata": {},
   "outputs": [],
   "source": [
    "# Switch to point drawing mode\n",
    "m3.set_draw_mode(\"draw_point\")\n",
    "print(\"✓ Switched to point drawing mode\")"
   ]
  },
  {
   "cell_type": "markdown",
   "metadata": {},
   "source": [
    "## Example 6: Clearing and Deleting Features\n",
    "\n",
    "You can clear all drawn features or delete specific ones."
   ]
  },
  {
   "cell_type": "code",
   "execution_count": null,
   "metadata": {},
   "outputs": [],
   "source": [
    "# Create a map with some initial data for demonstration\n",
    "m4 = MapLibreMap(center=[37.7749, -122.4194], zoom=13, height=\"600px\", style=\"streets\")\n",
    "\n",
    "# Add draw control\n",
    "m4.add_draw_control()\n",
    "\n",
    "# Load some test data\n",
    "test_data = {\n",
    "    \"type\": \"FeatureCollection\",\n",
    "    \"features\": [\n",
    "        {\n",
    "            \"type\": \"Feature\",\n",
    "            \"geometry\": {\"type\": \"Point\", \"coordinates\": [-122.4194, 37.7749]},\n",
    "            \"properties\": {\"name\": \"Point 1\"},\n",
    "        },\n",
    "        {\n",
    "            \"type\": \"Feature\",\n",
    "            \"geometry\": {\"type\": \"Point\", \"coordinates\": [-122.4150, 37.7700]},\n",
    "            \"properties\": {\"name\": \"Point 2\"},\n",
    "        },\n",
    "    ],\n",
    "}\n",
    "\n",
    "m4.load_draw_data(test_data)\n",
    "print(\"Loaded test data with 2 points\")\n",
    "print(\"Try drawing some additional features, then run the cell below to test deletion\")\n",
    "m4"
   ]
  },
  {
   "cell_type": "code",
   "execution_count": null,
   "metadata": {},
   "outputs": [],
   "source": [
    "# Clear all drawn features\n",
    "m4.clear_draw_data()\n",
    "print(\"✓ Cleared all drawn features\")\n",
    "\n",
    "# Note: In a real scenario, you could also delete specific features by ID:\n",
    "# m4.delete_draw_features(['feature_id_1', 'feature_id_2'])\n",
    "print(\"\\nTo delete specific features, you would use:\")\n",
    "print(\"m4.delete_draw_features(['feature_id_1', 'feature_id_2'])\")"
   ]
  },
  {
   "cell_type": "markdown",
   "metadata": {},
   "source": [
    "## Example 7: Export Map with Draw Control to HTML\n",
    "\n",
    "Maps with draw controls can be exported to standalone HTML files."
   ]
  },
  {
   "cell_type": "code",
   "execution_count": null,
   "metadata": {},
   "outputs": [],
   "source": [
    "# Create a final map for HTML export\n",
    "export_map = MapLibreMap(\n",
    "    center=[37.7749, -122.4194], zoom=12, height=\"600px\", style=\"satellite\"\n",
    ")\n",
    "\n",
    "# Add draw control\n",
    "export_map.add_draw_control(\n",
    "    position=\"top-right\",\n",
    "    controls={\"point\": True, \"line_string\": True, \"polygon\": True, \"trash\": True},\n",
    ")\n",
    "\n",
    "# Load some sample data\n",
    "export_map.load_draw_data(sample_geojson)\n",
    "\n",
    "# Export to HTML\n",
    "export_map.to_html(\n",
    "    \"san_francisco_draw_map.html\", title=\"San Francisco Draw Control Demo\"\n",
    ")\n",
    "\n",
    "print(\"Map exported to 'san_francisco_draw_map.html'\")\n",
    "print(\n",
    "    \"The HTML file includes draw control functionality and can be opened in any browser\"\n",
    ")\n",
    "export_map"
   ]
  },
  {
   "cell_type": "markdown",
   "metadata": {},
   "source": [
    "## Summary\n",
    "\n",
    "This notebook demonstrated the draw control functionality in AnyMap:\n",
    "\n",
    "### ✅ Key Features Covered:\n",
    "\n",
    "1. **Basic Draw Control**: Simple addition of draw tools to the map\n",
    "2. **Custom Configuration**: Customizing available tools, position, and behavior\n",
    "3. **Loading Data**: Importing existing GeoJSON data for editing\n",
    "4. **Retrieving Data**: Getting drawn features as GeoJSON\n",
    "5. **Mode Management**: Programmatically controlling drawing modes\n",
    "6. **Data Management**: Clearing and deleting features\n",
    "7. **HTML Export**: Exporting maps with draw controls to HTML\n",
    "\n",
    "### 🔧 Method Signatures:\n",
    "\n",
    "```python\n",
    "# Add draw control\n",
    "map.add_draw_control(\n",
    "    position: str = \"top-left\",\n",
    "    controls: Optional[Dict[str, bool]] = None,\n",
    "    default_mode: str = \"simple_select\",\n",
    "    keybindings: bool = True,\n",
    "    touch_enabled: bool = True\n",
    ")\n",
    "\n",
    "# Load GeoJSON data\n",
    "map.load_draw_data(geojson_data: Union[Dict, str])\n",
    "\n",
    "# Get drawn data\n",
    "map.get_draw_data() -> Dict\n",
    "\n",
    "# Clear all features\n",
    "map.clear_draw_data()\n",
    "\n",
    "# Delete specific features\n",
    "map.delete_draw_features(feature_ids: List[str])\n",
    "\n",
    "# Set drawing mode\n",
    "map.set_draw_mode(mode: str)\n",
    "```\n",
    "\n",
    "### 🎨 Drawing Modes:\n",
    "\n",
    "- **simple_select**: Select and move features\n",
    "- **direct_select**: Edit feature vertices\n",
    "- **draw_point**: Draw points\n",
    "- **draw_line_string**: Draw lines\n",
    "- **draw_polygon**: Draw polygons\n",
    "- **static**: Disable all interactions\n",
    "\n",
    "### 🎯 Use Cases:\n",
    "\n",
    "- **Annotation**: Mark important locations or areas\n",
    "- **Planning**: Draw routes, boundaries, or zones\n",
    "- **Data Collection**: Gather spatial information interactively\n",
    "- **Editing**: Modify existing spatial data\n",
    "- **Measurement**: Create geometries for area/distance calculations\n",
    "\n",
    "The draw control integration provides a powerful way to create interactive mapping applications with drawing and editing capabilities!"
   ]
  }
 ],
 "metadata": {
  "kernelspec": {
   "display_name": "Python 3",
   "language": "python",
   "name": "python3"
  },
  "language_info": {
   "codemirror_mode": {
    "name": "ipython",
    "version": 3
   },
   "file_extension": ".py",
   "mimetype": "text/x-python",
   "name": "python",
   "nbconvert_exporter": "python",
   "pygments_lexer": "ipython3",
   "version": "3.12.2"
  }
 },
 "nbformat": 4,
 "nbformat_minor": 4
}
