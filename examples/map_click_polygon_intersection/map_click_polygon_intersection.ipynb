{
 "cells": [
  {
   "cell_type": "markdown",
   "metadata": {},
   "source": [
    "# Map Click Polygon Intersection Example\n",
    "\n",
    "This notebook demonstrates how to:\n",
    "1. Observe map clicks using the `clicked` attribute\n",
    "2. Find intersecting polygons from a GeoJSON file\n",
    "3. Load the intersecting polygon into the draw control\n",
    "\n",
    "When you click on the map, it will check if the click point intersects any building polygons from `buildings.geojson` and automatically add the intersecting building to the draw control."
   ]
  },
  {
   "cell_type": "code",
   "execution_count": null,
   "metadata": {},
   "outputs": [],
   "source": [
    "import json\n",
    "import geopandas as gpd\n",
    "from shapely.geometry import Point\n",
    "from anymap.maplibre import MapLibreMap\n",
    "import ipywidgets as widgets\n",
    "from IPython.display import display"
   ]
  },
  {
   "cell_type": "markdown",
   "metadata": {},
   "source": [
    "## Load Building Data\n",
    "\n",
    "First, let's load the buildings.geojson file which contains building polygons from the Washington state area."
   ]
  },
  {
   "cell_type": "code",
   "execution_count": null,
   "metadata": {},
   "outputs": [],
   "source": [
    "# Load buildings data\n",
    "url = \"https://github.com/opengeos/datasets/releases/download/places/las_vegas_buildings.geojson\"\n",
    "buildings_gdf = gpd.read_file(url)\n",
    "\n",
    "print(f\"Loaded {len(buildings_gdf)} building polygons\")\n",
    "print(f\"Buildings CRS: {buildings_gdf.crs}\")\n",
    "print(f\"Buildings bounds: {buildings_gdf.total_bounds}\")\n",
    "\n",
    "# Display first few buildings\n",
    "buildings_gdf.head()"
   ]
  },
  {
   "cell_type": "code",
   "execution_count": null,
   "metadata": {},
   "outputs": [],
   "source": [
    "geojson = buildings_gdf.__geo_interface__"
   ]
  },
  {
   "cell_type": "code",
   "execution_count": null,
   "metadata": {},
   "outputs": [],
   "source": [
    "point_gdf = buildings_gdf.copy()\n",
    "point_gdf[\"geometry\"] = point_gdf.to_crs(\"EPSG:3857\").centroid.to_crs(\"EPSG:4326\")"
   ]
  },
  {
   "cell_type": "code",
   "execution_count": null,
   "metadata": {},
   "outputs": [],
   "source": [
    "point_gdf.head()"
   ]
  },
  {
   "cell_type": "code",
   "execution_count": null,
   "metadata": {},
   "outputs": [],
   "source": [
    "point_geojson = point_gdf.__geo_interface__"
   ]
  },
  {
   "cell_type": "code",
   "execution_count": null,
   "metadata": {},
   "outputs": [],
   "source": [
    "m = MapLibreMap(\n",
    "    style=\"liberty\", center=[-115.20350534, 36.1209240], zoom=16, add_sidebar=True\n",
    ")\n",
    "m.add_basemap(\"Esri.WorldImagery\")\n",
    "m.add_geojson_layer(\n",
    "    \"building_point\",\n",
    "    point_geojson,\n",
    "    layer_type=\"circle\",\n",
    "    paint={\"circle-color\": \"#0000ff\", \"circle-radius\": 5},\n",
    ")\n",
    "m.add_draw_control()\n",
    "m"
   ]
  },
  {
   "cell_type": "markdown",
   "metadata": {},
   "source": [
    "## Create Interactive Map\n",
    "\n",
    "Create a map centered in the Washington state area where the buildings are located, and add a draw control."
   ]
  },
  {
   "cell_type": "code",
   "execution_count": null,
   "metadata": {},
   "outputs": [],
   "source": [
    "# Create output widget to show messages\n",
    "output = widgets.Output()"
   ]
  },
  {
   "cell_type": "code",
   "execution_count": null,
   "metadata": {},
   "outputs": [],
   "source": [
    "def on_map_clicked(change):\n",
    "    \"\"\"Handle map click events.\"\"\"\n",
    "    clicked_coords = change[\"new\"]\n",
    "\n",
    "    with output:\n",
    "        output.clear_output()\n",
    "\n",
    "        if not clicked_coords:\n",
    "            return\n",
    "\n",
    "        lng = clicked_coords.get(\"lng\")\n",
    "        lat = clicked_coords.get(\"lat\")\n",
    "\n",
    "        print(f\"Map clicked at: {lng:.6f}, {lat:.6f}\")\n",
    "\n",
    "        # Create point from click coordinates\n",
    "        click_point = Point(lng, lat)\n",
    "\n",
    "        # First check if there's already a polygon in draw data that intersects this point\n",
    "        existing_draw_data = m.get_draw_data()\n",
    "        existing_features = existing_draw_data.get(\"features\", [])\n",
    "\n",
    "        # Check if click point intersects any existing drawn features\n",
    "        for feature in existing_features:\n",
    "            try:\n",
    "                from shapely.geometry import shape\n",
    "\n",
    "                existing_geom = shape(feature[\"geometry\"])\n",
    "                if existing_geom.intersects(click_point):\n",
    "                    print(\n",
    "                        f\"⚠️  Click point already intersects an existing drawn feature\"\n",
    "                    )\n",
    "                    print(\n",
    "                        f\"    Feature: {feature.get('properties', {}).get('name', 'Unnamed')}\"\n",
    "                    )\n",
    "                    print(f\"    Skipping search for new buildings\")\n",
    "                    return\n",
    "            except Exception as e:\n",
    "                # Skip if there's an issue with the geometry\n",
    "                continue\n",
    "\n",
    "        # Find intersecting building in the buildings dataset\n",
    "        building = find_intersecting_building(clicked_coords)\n",
    "\n",
    "        if building is not None:\n",
    "            print(f\"✅ Found intersecting building!\")\n",
    "            print(f\"   Building ID: {building['id']}\")\n",
    "            print(f\"   Place ID: {building['height']}\")\n",
    "\n",
    "            # Convert building geometry to GeoJSON\n",
    "            building_geojson = {\n",
    "                \"type\": \"Feature\",\n",
    "                \"geometry\": building.geometry.__geo_interface__,\n",
    "                \"properties\": {\n",
    "                    \"buildingId\": str(building[\"id\"]),\n",
    "                    \"height\": str(building[\"height\"]),\n",
    "                    \"clicked_at\": f\"{lng:.6f}, {lat:.6f}\",\n",
    "                },\n",
    "            }\n",
    "\n",
    "            # Add building to draw control\n",
    "            m.add_draw_data(building_geojson)\n",
    "            print(f\"📍 Added building to draw control\")\n",
    "\n",
    "        else:\n",
    "            print(f\"❌ No building found at this location\")\n",
    "\n",
    "\n",
    "# Observe changes to the clicked attribute\n",
    "m.observe(on_map_clicked, names=\"clicked\")\n",
    "\n",
    "display(output)"
   ]
  },
  {
   "cell_type": "code",
   "execution_count": null,
   "metadata": {},
   "outputs": [],
   "source": [
    "def find_intersecting_building(click_coords):\n",
    "    \"\"\"Find building polygon that intersects with click point.\"\"\"\n",
    "    if not click_coords:\n",
    "        return None\n",
    "\n",
    "    lng = click_coords.get(\"lng\")\n",
    "    lat = click_coords.get(\"lat\")\n",
    "\n",
    "    if lng is None or lat is None:\n",
    "        return None\n",
    "\n",
    "    # Create point from click coordinates\n",
    "    click_point = Point(lng, lat)\n",
    "\n",
    "    # Find intersecting buildings\n",
    "    intersecting = buildings_gdf[buildings_gdf.geometry.intersects(click_point)]\n",
    "\n",
    "    if len(intersecting) > 0:\n",
    "        # Return the first intersecting building\n",
    "        return intersecting.iloc[0]\n",
    "\n",
    "    return None"
   ]
  },
  {
   "cell_type": "code",
   "execution_count": null,
   "metadata": {},
   "outputs": [],
   "source": []
  }
 ],
 "metadata": {
  "kernelspec": {
   "display_name": "Python 3",
   "language": "python",
   "name": "python3"
  },
  "language_info": {
   "codemirror_mode": {
    "name": "ipython",
    "version": 3
   },
   "file_extension": ".py",
   "mimetype": "text/x-python",
   "name": "python",
   "nbconvert_exporter": "python",
   "pygments_lexer": "ipython3",
   "version": "3.12.2"
  }
 },
 "nbformat": 4,
 "nbformat_minor": 4
}
