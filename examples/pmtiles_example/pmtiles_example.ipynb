{
 "cells": [
  {
   "cell_type": "markdown",
   "metadata": {},
   "source": [
    "# PMTiles Support in AnyMap\n",
    "\n",
    "This notebook demonstrates how to use PMTiles (Protomaps Tiles) with the MapLibre implementation in AnyMap. PMTiles is a single-file archive format for tiled data that enables efficient serving of vector tiles without a tile server.\n",
    "\n",
    "## What is PMTiles?\n",
    "\n",
    "PMTiles is a cloud-optimized format for storing map tiles in a single file. It allows you to:\n",
    "- Serve vector tiles directly from cloud storage (S3, CDN, etc.)\n",
    "- Eliminate the need for a tile server\n",
    "- Reduce costs and complexity for map deployments\n",
    "- Enable offline mapping applications\n",
    "\n",
    "Learn more at [protomaps.com](https://protomaps.com/)"
   ]
  },
  {
   "cell_type": "code",
   "execution_count": null,
   "metadata": {},
   "outputs": [],
   "source": [
    "# Import required modules\n",
    "from anymap import MapLibreMap\n",
    "import json\n",
    "\n",
    "print(\"AnyMap loaded successfully!\")\n",
    "print(\"PMTiles support is built into the MapLibre implementation.\")"
   ]
  },
  {
   "cell_type": "markdown",
   "metadata": {},
   "source": [
    "## Example 1: Basic PMTiles Usage\n",
    "\n",
    "Let's start with a simple example using a PMTiles file from the Protomaps demo. This contains vector data for Florence, Italy."
   ]
  },
  {
   "cell_type": "code",
   "execution_count": null,
   "metadata": {},
   "outputs": [],
   "source": [
    "# Create a map centered on Florence, Italy\n",
    "m = MapLibreMap(\n",
    "    center=[11.25, 43.77],  # Florence coordinates [lng, lat]\n",
    "    zoom=12,\n",
    "    height=\"600px\",\n",
    "    width=\"100%\",\n",
    ")\n",
    "\n",
    "# Add PMTiles data - this will use default styling\n",
    "pmtiles_url = \"https://pmtiles.io/protomaps(vector)ODbL_firenze.pmtiles\"\n",
    "m.add_pmtiles(pmtiles_url)\n",
    "\n",
    "print(f\"Added PMTiles data from: {pmtiles_url}\")\n",
    "print(\"Default layers created: landuse, roads, buildings, water\")\n",
    "m"
   ]
  },
  {
   "cell_type": "markdown",
   "metadata": {},
   "source": [
    "## Example 2: Custom Layer Styling\n",
    "\n",
    "PMTiles often contain multiple data layers. You can customize how these layers are styled by providing your own layer configurations."
   ]
  },
  {
   "cell_type": "code",
   "execution_count": null,
   "metadata": {},
   "outputs": [],
   "source": [
    "# Create a new map for custom styling\n",
    "m2 = MapLibreMap(\n",
    "    center=[43.77, 11.25],\n",
    "    zoom=13,\n",
    "    height=\"600px\",\n",
    "    style=\"positron\",  # Use a light base style\n",
    ")\n",
    "\n",
    "# Define custom layers with specific styling\n",
    "custom_layers = [\n",
    "    {\n",
    "        \"id\": \"florence_buildings\",\n",
    "        \"source\": \"florence_pmtiles_source\",\n",
    "        \"source-layer\": \"landuse\",  # Using landuse layer from the PMTiles\n",
    "        \"type\": \"fill\",\n",
    "        \"paint\": {\"fill-color\": \"#8B4513\", \"fill-opacity\": 0.6},  # Brown color\n",
    "    },\n",
    "    {\n",
    "        \"id\": \"florence_roads\",\n",
    "        \"source\": \"florence_pmtiles_source\",\n",
    "        \"source-layer\": \"roads\",\n",
    "        \"type\": \"line\",\n",
    "        \"paint\": {\n",
    "            \"line-color\": \"#FF6B35\",  # Orange color\n",
    "            \"line-width\": [\"interpolate\", [\"linear\"], [\"zoom\"], 10, 1, 15, 3],\n",
    "        },\n",
    "    },\n",
    "    {\n",
    "        \"id\": \"florence_mask\",\n",
    "        \"source\": \"florence_pmtiles_source\",\n",
    "        \"source-layer\": \"mask\",\n",
    "        \"type\": \"fill\",\n",
    "        \"paint\": {\"fill-color\": \"rgba(255, 255, 255, 0.1)\"},\n",
    "    },\n",
    "]\n",
    "\n",
    "# Add PMTiles with custom styling\n",
    "m2.add_pmtiles(\n",
    "    pmtiles_url, layer_id=\"florence_pmtiles\", layers=custom_layers, opacity=0.8\n",
    ")\n",
    "\n",
    "print(\"Added PMTiles with custom layer styling\")\n",
    "print(\"Custom layers:\", [layer[\"id\"] for layer in custom_layers])\n",
    "m2"
   ]
  },
  {
   "cell_type": "markdown",
   "metadata": {},
   "source": [
    "## Example 3: Multiple PMTiles Sources\n",
    "\n",
    "You can add multiple PMTiles sources to the same map, each with different styling and data."
   ]
  },
  {
   "cell_type": "code",
   "execution_count": null,
   "metadata": {},
   "outputs": [],
   "source": [
    "# Create a map for multiple PMTiles demonstration\n",
    "m3 = MapLibreMap(center=[43.77, 11.25], zoom=11, height=\"600px\", style=\"dark-matter\")\n",
    "\n",
    "# Add the first PMTiles source with roads emphasized\n",
    "roads_layers = [\n",
    "    {\n",
    "        \"id\": \"main_roads\",\n",
    "        \"source\": \"pmtiles_roads_source\",\n",
    "        \"source-layer\": \"roads\",\n",
    "        \"type\": \"line\",\n",
    "        \"paint\": {\n",
    "            \"line-color\": \"#FFD700\",  # Gold color\n",
    "            \"line-width\": 2,\n",
    "            \"line-opacity\": 0.8,\n",
    "        },\n",
    "    }\n",
    "]\n",
    "\n",
    "m3.add_pmtiles(pmtiles_url, layer_id=\"pmtiles_roads\", layers=roads_layers)\n",
    "\n",
    "# Add the same PMTiles source again with different styling for buildings\n",
    "building_layers = [\n",
    "    {\n",
    "        \"id\": \"landuse_areas\",\n",
    "        \"source\": \"pmtiles_buildings_source\",\n",
    "        \"source-layer\": \"landuse\",\n",
    "        \"type\": \"fill\",\n",
    "        \"paint\": {\"fill-color\": \"#32CD32\", \"fill-opacity\": 0.4},  # Lime green\n",
    "    }\n",
    "]\n",
    "\n",
    "m3.add_pmtiles(pmtiles_url, layer_id=\"pmtiles_buildings\", layers=building_layers)\n",
    "\n",
    "print(\"Added multiple PMTiles layers with different styling\")\n",
    "print(\"Gold roads and green landuse areas should be visible\")\n",
    "m3"
   ]
  },
  {
   "cell_type": "markdown",
   "metadata": {},
   "source": [
    "## Example 4: Layer Management with PMTiles\n",
    "\n",
    "PMTiles layers can be managed like any other layers in AnyMap - you can adjust opacity, visibility, and remove them."
   ]
  },
  {
   "cell_type": "code",
   "execution_count": null,
   "metadata": {},
   "outputs": [],
   "source": [
    "# Check current layers\n",
    "print(\"Current layers in the map:\")\n",
    "for layer_id in m3.layer_dict.keys():\n",
    "    layer_info = m3.layer_dict[layer_id]\n",
    "    print(\n",
    "        f\"  - {layer_id}: visible={layer_info['visible']}, opacity={layer_info['opacity']}\"\n",
    "    )"
   ]
  },
  {
   "cell_type": "code",
   "execution_count": null,
   "metadata": {},
   "outputs": [],
   "source": [
    "# Adjust layer properties\n",
    "m3.set_opacity(\"main_roads\", 0.5)\n",
    "m3.set_visibility(\"landuse_areas\", False)\n",
    "\n",
    "print(\"Modified layer properties:\")\n",
    "print(\"- Reduced road opacity to 0.5\")\n",
    "print(\"- Hidden landuse areas\")\n",
    "m3"
   ]
  },
  {
   "cell_type": "code",
   "execution_count": null,
   "metadata": {},
   "outputs": [],
   "source": [
    "# Show landuse areas again\n",
    "m3.set_visibility(\"landuse_areas\", True)\n",
    "print(\"Landuse areas are now visible again\")\n",
    "m3"
   ]
  },
  {
   "cell_type": "markdown",
   "metadata": {},
   "source": [
    "## Example 5: Export PMTiles Map to HTML\n",
    "\n",
    "Maps with PMTiles can be exported to standalone HTML files for sharing or deployment."
   ]
  },
  {
   "cell_type": "code",
   "execution_count": null,
   "metadata": {},
   "outputs": [],
   "source": [
    "# Create a final map for HTML export\n",
    "export_map = MapLibreMap(\n",
    "    center=[43.77, 11.25], zoom=13, height=\"600px\", style=\"voyager\"\n",
    ")\n",
    "\n",
    "# Add PMTiles with default styling\n",
    "export_map.add_pmtiles(pmtiles_url, layer_id=\"florence_export\")\n",
    "\n",
    "# Export to HTML\n",
    "export_map.to_html(\"florence_pmtiles_map.html\", title=\"Florence PMTiles Demo\")\n",
    "\n",
    "print(\"Map exported to 'florence_pmtiles_map.html'\")\n",
    "print(\"The HTML file includes PMTiles support and can be opened in any browser\")\n",
    "export_map"
   ]
  },
  {
   "cell_type": "markdown",
   "metadata": {},
   "source": [
    "## Example 6: Advanced PMTiles Configuration\n",
    "\n",
    "For more advanced use cases, you can create complex layer configurations that take advantage of PMTiles data structure."
   ]
  },
  {
   "cell_type": "code",
   "execution_count": null,
   "metadata": {},
   "outputs": [],
   "source": [
    "# Create an advanced styled map\n",
    "advanced_map = MapLibreMap(\n",
    "    center=[43.77, 11.25], zoom=14, height=\"600px\", style=\"positron\"\n",
    ")\n",
    "\n",
    "# Advanced layer configuration with expressions and filters\n",
    "advanced_layers = [\n",
    "    {\n",
    "        \"id\": \"florence_roads_by_type\",\n",
    "        \"source\": \"florence_advanced_source\",\n",
    "        \"source-layer\": \"roads\",\n",
    "        \"type\": \"line\",\n",
    "        \"paint\": {\n",
    "            \"line-color\": [\n",
    "                \"case\",\n",
    "                [\"has\", \"highway\"],\n",
    "                \"#FF0000\",  # Red for highways\n",
    "                \"#666666\",  # Gray for other roads\n",
    "            ],\n",
    "            \"line-width\": [\"interpolate\", [\"linear\"], [\"zoom\"], 10, 1, 16, 4],\n",
    "            \"line-opacity\": 0.8,\n",
    "        },\n",
    "    },\n",
    "    {\n",
    "        \"id\": \"florence_landuse_styled\",\n",
    "        \"source\": \"florence_advanced_source\",\n",
    "        \"source-layer\": \"landuse\",\n",
    "        \"type\": \"fill\",\n",
    "        \"paint\": {\n",
    "            \"fill-color\": [\n",
    "                \"interpolate\",\n",
    "                [\"linear\"],\n",
    "                [\"zoom\"],\n",
    "                10,\n",
    "                \"rgba(139, 69, 19, 0.3)\",\n",
    "                15,\n",
    "                \"rgba(139, 69, 19, 0.6)\",\n",
    "            ],\n",
    "            \"fill-outline-color\": \"rgba(139, 69, 19, 0.8)\",\n",
    "        },\n",
    "    },\n",
    "]\n",
    "\n",
    "advanced_map.add_pmtiles(\n",
    "    pmtiles_url, layer_id=\"florence_advanced\", layers=advanced_layers\n",
    ")\n",
    "\n",
    "print(\"Created advanced PMTiles map with:\")\n",
    "print(\"- Color-coded roads (red for highways, gray for others)\")\n",
    "print(\"- Zoom-dependent styling\")\n",
    "print(\"- Outlined landuse areas\")\n",
    "advanced_map"
   ]
  },
  {
   "cell_type": "markdown",
   "metadata": {},
   "source": [
    "## Summary\n",
    "\n",
    "This notebook demonstrated the PMTiles functionality in AnyMap:\n",
    "\n",
    "### ✅ Key Features Covered:\n",
    "\n",
    "1. **Basic PMTiles Usage**: Simple addition of PMTiles data with default styling\n",
    "2. **Custom Layer Styling**: Creating custom layer configurations for specific visual effects\n",
    "3. **Multiple PMTiles Sources**: Adding multiple PMTiles sources to the same map\n",
    "4. **Layer Management**: Controlling opacity, visibility, and other layer properties\n",
    "5. **HTML Export**: Exporting PMTiles maps to standalone HTML files\n",
    "6. **Advanced Configuration**: Using MapLibre expressions for complex styling\n",
    "\n",
    "### 🔧 Method Signature:\n",
    "\n",
    "```python\n",
    "map.add_pmtiles(\n",
    "    pmtiles_url: str,                    # URL to the PMTiles file\n",
    "    layer_id: Optional[str] = None,      # Custom layer ID (auto-generated if None)\n",
    "    layers: Optional[List[Dict]] = None, # Custom layer configurations\n",
    "    opacity: Optional[float] = 1.0,      # Layer opacity (0.0 - 1.0)\n",
    "    visible: Optional[bool] = True,      # Initial visibility\n",
    "    before_id: Optional[str] = None      # Insert before this layer\n",
    ")\n",
    "```\n",
    "\n",
    "### 🌐 PMTiles Benefits:\n",
    "\n",
    "- **No tile server required**: Serve directly from cloud storage\n",
    "- **Cost effective**: Reduce infrastructure costs\n",
    "- **Fast loading**: Optimized for web delivery\n",
    "- **Offline capable**: Works without internet connectivity\n",
    "- **Single file format**: Easy to manage and deploy\n",
    "\n",
    "### 📚 Resources:\n",
    "\n",
    "- [PMTiles Specification](https://github.com/protomaps/PMTiles)\n",
    "- [Protomaps.com](https://protomaps.com/)\n",
    "- [MapLibre GL JS Documentation](https://maplibre.org/maplibre-gl-js-docs/)\n",
    "\n",
    "PMTiles integration makes it easy to serve vector map data efficiently without complex server infrastructure!"
   ]
  }
 ],
 "metadata": {
  "kernelspec": {
   "display_name": "geo",
   "language": "python",
   "name": "python3"
  },
  "language_info": {
   "codemirror_mode": {
    "name": "ipython",
    "version": 3
   },
   "file_extension": ".py",
   "mimetype": "text/x-python",
   "name": "python",
   "nbconvert_exporter": "python",
   "pygments_lexer": "ipython3",
   "version": "3.12.2"
  }
 },
 "nbformat": 4,
 "nbformat_minor": 4
}
