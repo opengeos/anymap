{
 "cells": [
  {
   "cell_type": "markdown",
   "id": "0",
   "metadata": {},
   "source": [
    "# GeoGrid Example\n",
    "\n",
    "This notebook demonstrates how to use the GeoGrid plugin with MapLibre GL JS maps in AnyMap. GeoGrid adds a customizable geographic grid (graticule) with labeled coordinates to your maps."
   ]
  },
  {
   "cell_type": "code",
   "execution_count": null,
   "id": "1",
   "metadata": {},
   "outputs": [],
   "source": [
    "from anymap import MapLibreMap"
   ]
  },
  {
   "cell_type": "markdown",
   "id": "2",
   "metadata": {},
   "source": [
    "## Basic GeoGrid\n",
    "\n",
    "Create a map with a basic geographic grid overlay showing latitude and longitude lines:"
   ]
  },
  {
   "cell_type": "code",
   "execution_count": null,
   "id": "3",
   "metadata": {},
   "outputs": [],
   "source": [
    "# Create a MapLibre map\n",
    "m = MapLibreMap(\n",
    "    center=[0, 20], zoom=2, style=\"positron\", height=\"600px\"  # Centered on Africa\n",
    ")\n",
    "\n",
    "# Add a basic GeoGrid\n",
    "m.add_geogrid_control()\n",
    "\n",
    "m"
   ]
  },
  {
   "cell_type": "markdown",
   "id": "4",
   "metadata": {},
   "source": [
    "## Customized Grid Style\n",
    "\n",
    "You can customize the appearance of the grid lines and labels with different colors, widths, and styles:"
   ]
  },
  {
   "cell_type": "code",
   "execution_count": null,
   "id": "5",
   "metadata": {},
   "outputs": [],
   "source": [
    "# Create a map with custom grid styling\n",
    "m2 = MapLibreMap(\n",
    "    center=[-95, 40], zoom=3, style=\"dark-matter\", height=\"600px\"  # Centered on USA\n",
    ")\n",
    "\n",
    "# Add GeoGrid with custom line and label styling\n",
    "m2.add_geogrid_control(\n",
    "    grid_style={\n",
    "        \"line-color\": \"#00ffff\",  # Cyan grid lines\n",
    "        \"line-width\": 2,\n",
    "        \"line-dasharray\": [2, 2],  # Dashed lines\n",
    "    },\n",
    "    label_style={\n",
    "        \"color\": \"#00ffff\",  # Cyan labels\n",
    "        \"fontSize\": \"14px\",\n",
    "        \"textShadow\": \"2px 2px 4px rgba(0, 0, 0, 0.8)\",\n",
    "    },\n",
    ")\n",
    "\n",
    "m2"
   ]
  },
  {
   "cell_type": "markdown",
   "id": "6",
   "metadata": {},
   "source": [
    "## Grid with Zoom Level Range\n",
    "\n",
    "Control the visibility of the grid at different zoom levels. This is useful to show the grid only at specific zoom ranges:"
   ]
  },
  {
   "cell_type": "code",
   "execution_count": null,
   "id": "7",
   "metadata": {},
   "outputs": [],
   "source": [
    "# Create a map with zoom-dependent grid visibility\n",
    "m3 = MapLibreMap(\n",
    "    center=[10, 50], zoom=4, style=\"liberty\", height=\"600px\"  # Centered on Europe\n",
    ")\n",
    "\n",
    "# Add GeoGrid that's only visible between zoom levels 2 and 8\n",
    "m3.add_geogrid_control(\n",
    "    zoom_level_range=[2, 8],\n",
    "    grid_style={\"line-color\": \"#ff6b6b\", \"line-width\": 1.5},\n",
    "    label_style={\"color\": \"#ff6b6b\", \"fontSize\": \"12px\"},\n",
    ")\n",
    "\n",
    "m3"
   ]
  },
  {
   "cell_type": "markdown",
   "id": "8",
   "metadata": {},
   "source": [
    "## Grid Below Specific Layer\n",
    "\n",
    "You can position the grid below a specific layer to control the rendering order:"
   ]
  },
  {
   "cell_type": "code",
   "execution_count": null,
   "id": "9",
   "metadata": {},
   "outputs": [],
   "source": [
    "# Create a map with a GeoJSON layer\n",
    "m4 = MapLibreMap(\n",
    "    center=[139.7, 35.7], zoom=5, style=\"positron\", height=\"600px\"  # Centered on Tokyo\n",
    ")\n",
    "\n",
    "# Add a GeoJSON layer\n",
    "geojson_data = {\n",
    "    \"type\": \"Feature\",\n",
    "    \"geometry\": {\"type\": \"Point\", \"coordinates\": [139.6917, 35.6895]},\n",
    "    \"properties\": {\"name\": \"Tokyo\"},\n",
    "}\n",
    "\n",
    "m4.add_geojson_layer(\n",
    "    layer_id=\"tokyo-marker\",\n",
    "    geojson_data=geojson_data,\n",
    "    layer_type=\"circle\",\n",
    "    paint={\"circle-radius\": 10, \"circle-color\": \"#FF0000\"},\n",
    ")\n",
    "\n",
    "# Add grid below the marker layer\n",
    "# Note: You may need to check available layer IDs in your style\n",
    "m4.add_geogrid_control(grid_style={\"line-color\": \"#888888\", \"line-width\": 1})\n",
    "\n",
    "m4"
   ]
  },
  {
   "cell_type": "markdown",
   "id": "10",
   "metadata": {},
   "source": [
    "## Removing the Grid\n",
    "\n",
    "You can remove the grid control when it's no longer needed:"
   ]
  },
  {
   "cell_type": "code",
   "execution_count": null,
   "id": "11",
   "metadata": {},
   "outputs": [],
   "source": [
    "# Remove the GeoGrid from the first map\n",
    "m.remove_geogrid_control()\n",
    "\n",
    "print(\"GeoGrid removed from the first map\")"
   ]
  },
  {
   "cell_type": "markdown",
   "id": "12",
   "metadata": {},
   "source": [
    "## Combining with Other Controls\n",
    "\n",
    "The GeoGrid control works well with other map controls:"
   ]
  },
  {
   "cell_type": "code",
   "execution_count": null,
   "id": "13",
   "metadata": {},
   "outputs": [],
   "source": [
    "# Create a comprehensive map with multiple controls\n",
    "m5 = MapLibreMap(\n",
    "    center=[15, 0], zoom=2.5, style=\"dark-matter\", height=\"600px\"  # Centered on Africa\n",
    ")\n",
    "\n",
    "# Add various controls\n",
    "m5.add_control(\"navigation\", \"top-right\")\n",
    "m5.add_control(\"fullscreen\", \"top-right\")\n",
    "m5.add_control(\"scale\", \"bottom-left\")\n",
    "\n",
    "# Add GeoGrid with custom styling\n",
    "m5.add_geogrid_control(\n",
    "    grid_style={\"line-color\": \"#4ecdc4\", \"line-width\": 1.5, \"line-opacity\": 0.6},\n",
    "    label_style={\n",
    "        \"color\": \"#4ecdc4\",\n",
    "        \"fontSize\": \"13px\",\n",
    "        \"textShadow\": \"1px 1px 3px rgba(0, 0, 0, 0.9)\",\n",
    "    },\n",
    ")\n",
    "\n",
    "m5"
   ]
  },
  {
   "cell_type": "markdown",
   "id": "14",
   "metadata": {},
   "source": [
    "## Export to HTML\n",
    "\n",
    "The GeoGrid control is preserved when exporting to HTML:"
   ]
  },
  {
   "cell_type": "code",
   "execution_count": null,
   "id": "15",
   "metadata": {},
   "outputs": [],
   "source": [
    "# Export the map with GeoGrid to HTML\n",
    "m5.to_html(\"geogrid_map.html\")\n",
    "print(\"Map with GeoGrid control exported to geogrid_map.html\")"
   ]
  },
  {
   "cell_type": "markdown",
   "id": "16",
   "metadata": {},
   "source": [
    "## Globe Projection Support\n",
    "\n",
    "GeoGrid also works with globe projection (MapLibre GL 5.x feature):"
   ]
  },
  {
   "cell_type": "code",
   "execution_count": null,
   "id": "17",
   "metadata": {},
   "outputs": [],
   "source": [
    "# Create a map with globe projection\n",
    "m6 = MapLibreMap(center=[0, 20], zoom=1.5, style=\"positron\", height=\"600px\")\n",
    "\n",
    "# Set globe projection\n",
    "m6.set_projection({\"type\": \"globe\"})\n",
    "\n",
    "# Add GeoGrid that works with globe projection\n",
    "m6.add_geogrid_control(\n",
    "    grid_style={\"line-color\": \"#1a73e8\", \"line-width\": 2},\n",
    "    label_style={\"color\": \"#1a73e8\", \"fontSize\": \"14px\", \"fontWeight\": \"bold\"},\n",
    ")\n",
    "\n",
    "m6"
   ]
  }
 ],
 "metadata": {
  "kernelspec": {
   "display_name": "Python 3",
   "language": "python",
   "name": "python3"
  },
  "language_info": {
   "codemirror_mode": {
    "name": "ipython",
    "version": 3
   },
   "file_extension": ".py",
   "mimetype": "text/x-python",
   "name": "python",
   "nbconvert_exporter": "python",
   "pygments_lexer": "ipython3",
   "version": "3.12.2"
  }
 },
 "nbformat": 4,
 "nbformat_minor": 5
}
