{
 "cells": [
  {
   "cell_type": "markdown",
   "metadata": {},
   "source": [
    "# MapLibreLayer Control\n",
    "\n",
    "This notebook demonstrates the fixed layer control implementation that:\n",
    "- Shows immediately after map initialization\n",
    "- Groups background layers as \"Background Map\"\n",
    "- Dynamically updates when new layers are added\n",
    "- Properly syncs with programmatic changes"
   ]
  },
  {
   "cell_type": "code",
   "execution_count": null,
   "metadata": {},
   "outputs": [],
   "source": [
    "from anymap.maplibre import MapLibreMap"
   ]
  },
  {
   "cell_type": "markdown",
   "metadata": {},
   "source": [
    "## 1. Create Map with Immediate Layer Control\n",
    "\n",
    "The layer control now shows up immediately after map initialization, displaying the \"Background Map\" control even when no user layers are present."
   ]
  },
  {
   "cell_type": "code",
   "execution_count": null,
   "metadata": {},
   "outputs": [],
   "source": [
    "# Create map with default style\n",
    "m = MapLibreMap(center=[-122.4307025, 37.780538], zoom=12, style=\"dark-matter\")\n",
    "\n",
    "# Add layer control - should show immediately with Background\n",
    "m.add_layer_control(position=\"top-right\", collapsed=True)\n",
    "\n",
    "m"
   ]
  },
  {
   "cell_type": "markdown",
   "metadata": {},
   "source": [
    "## 2. Dynamic Layer Addition\n",
    "\n",
    "New layers are now automatically detected and added to the layer control panel."
   ]
  },
  {
   "cell_type": "code",
   "execution_count": null,
   "metadata": {},
   "outputs": [],
   "source": [
    "# Add a test point layer - should appear in layer control automatically\n",
    "point_data = {\n",
    "    \"type\": \"FeatureCollection\",\n",
    "    \"features\": [\n",
    "        {\n",
    "            \"type\": \"Feature\",\n",
    "            \"geometry\": {\"type\": \"Point\", \"coordinates\": [-122.4194, 37.7749]},\n",
    "            \"properties\": {\"name\": \"San Francisco\"},\n",
    "        },\n",
    "        {\n",
    "            \"type\": \"Feature\",\n",
    "            \"geometry\": {\"type\": \"Point\", \"coordinates\": [-122.4294, 37.7849]},\n",
    "            \"properties\": {\"name\": \"Point 2\"},\n",
    "        },\n",
    "    ],\n",
    "}\n",
    "\n",
    "layer_config = {\n",
    "    \"id\": \"test-points\",\n",
    "    \"type\": \"circle\",\n",
    "    \"source\": {\"type\": \"geojson\", \"data\": point_data},\n",
    "    \"paint\": {\n",
    "        \"circle-radius\": 8,\n",
    "        \"circle-color\": \"#FF0000\",\n",
    "        \"circle-stroke-color\": \"#FFFFFF\",\n",
    "        \"circle-stroke-width\": 2,\n",
    "    },\n",
    "}\n",
    "\n",
    "m.add_layer(\"test-points\", layer_config)\n",
    "\n",
    "print(\n",
    "    \"Added test-points layer. Check the layer control - it should now show both 'Background' and 'test-points'.\"\n",
    ")"
   ]
  },
  {
   "cell_type": "markdown",
   "metadata": {},
   "source": [
    "## 3. Add Multiple Layers\n",
    "\n",
    "All new layers are automatically added to the control panel."
   ]
  },
  {
   "cell_type": "code",
   "execution_count": null,
   "metadata": {},
   "outputs": [],
   "source": [
    "# Add a polygon layer\n",
    "polygon_data = {\n",
    "    \"type\": \"FeatureCollection\",\n",
    "    \"features\": [\n",
    "        {\n",
    "            \"type\": \"Feature\",\n",
    "            \"geometry\": {\n",
    "                \"type\": \"Polygon\",\n",
    "                \"coordinates\": [\n",
    "                    [\n",
    "                        [-122.43, 37.77],\n",
    "                        [-122.43, 37.78],\n",
    "                        [-122.42, 37.78],\n",
    "                        [-122.42, 37.77],\n",
    "                        [-122.43, 37.77],\n",
    "                    ]\n",
    "                ],\n",
    "            },\n",
    "            \"properties\": {\"name\": \"Test Area\"},\n",
    "        }\n",
    "    ],\n",
    "}\n",
    "\n",
    "polygon_layer_config = {\n",
    "    \"id\": \"test-polygon\",\n",
    "    \"type\": \"fill\",\n",
    "    \"source\": {\"type\": \"geojson\", \"data\": polygon_data},\n",
    "    \"paint\": {\"fill-color\": \"#00FF00\", \"fill-opacity\": 0.5},\n",
    "}\n",
    "\n",
    "m.add_layer(\"test-polygon\", polygon_layer_config)\n",
    "\n",
    "# Add a line layer\n",
    "line_data = {\n",
    "    \"type\": \"FeatureCollection\",\n",
    "    \"features\": [\n",
    "        {\n",
    "            \"type\": \"Feature\",\n",
    "            \"geometry\": {\n",
    "                \"type\": \"LineString\",\n",
    "                \"coordinates\": [[-122.45, 37.77], [-122.44, 37.78], [-122.43, 37.79]],\n",
    "            },\n",
    "            \"properties\": {\"name\": \"Test Route\"},\n",
    "        }\n",
    "    ],\n",
    "}\n",
    "\n",
    "line_layer_config = {\n",
    "    \"id\": \"test-line\",\n",
    "    \"type\": \"line\",\n",
    "    \"source\": {\"type\": \"geojson\", \"data\": line_data},\n",
    "    \"paint\": {\"line-color\": \"#0000FF\", \"line-width\": 3},\n",
    "}\n",
    "\n",
    "m.add_layer(\"test-line\", line_layer_config)\n",
    "\n",
    "print(\n",
    "    \"Added test-polygon and test-line layers. Layer control should now show all 4 items:\"\n",
    ")\n",
    "print(\"- Background\")\n",
    "print(\"- test-points\")\n",
    "print(\"- test-polygon\")\n",
    "print(\"- test-line\")"
   ]
  },
  {
   "cell_type": "code",
   "execution_count": null,
   "metadata": {},
   "outputs": [],
   "source": [
    "html = m.to_html(\"layer_control.html\", title=\"MapLibre Layer Control\", height=\"800px\")"
   ]
  },
  {
   "cell_type": "markdown",
   "metadata": {},
   "source": [
    "## 4. Test Programmatic Changes\n",
    "\n",
    "The layer control now properly syncs with programmatic visibility and opacity changes."
   ]
  },
  {
   "cell_type": "code",
   "execution_count": null,
   "metadata": {},
   "outputs": [],
   "source": [
    "# Test visibility changes - the checkboxes should update automatically\n",
    "print(\"Testing visibility changes...\")\n",
    "m.set_visibility(\"test-points\", False)\n",
    "print(\"- Set test-points visibility to False (checkbox should be unchecked)\")\n",
    "\n",
    "m.set_visibility(\"test-polygon\", False)\n",
    "print(\"- Set test-polygon visibility to False (checkbox should be unchecked)\")\n",
    "\n",
    "# Test opacity changes - the sliders should update automatically\n",
    "print(\"\\nTesting opacity changes...\")\n",
    "m.set_opacity(\"test-line\", 0.3)\n",
    "print(\"- Set test-line opacity to 0.3 (slider should move to 30%)\")\n",
    "\n",
    "m.set_opacity(\"test-polygon\", 0.8)\n",
    "print(\"- Set test-polygon opacity to 0.8 (slider should move to 80%)\")\n",
    "\n",
    "print(\"\\nCheck the layer control - all changes should be reflected in the UI!\")"
   ]
  },
  {
   "cell_type": "markdown",
   "metadata": {},
   "source": [
    "## 5. Restore Visibility and Test Background Control\n",
    "\n",
    "Test that the background control properly affects all map style layers."
   ]
  },
  {
   "cell_type": "code",
   "execution_count": null,
   "metadata": {},
   "outputs": [],
   "source": [
    "# Restore visibility\n",
    "m.set_visibility(\"test-points\", True)\n",
    "m.set_visibility(\"test-polygon\", True)\n",
    "m.set_opacity(\"test-line\", 1.0)\n",
    "m.set_opacity(\"test-polygon\", 0.5)\n",
    "\n",
    "print(\"Restored all layer visibility and opacity.\")\n",
    "print(\"\\nTry using the layer control UI:\")\n",
    "print(\"- Toggle the 'Background' checkbox to hide/show all background layers\")\n",
    "print(\"- Adjust the 'Background' opacity slider to change map transparency\")\n",
    "print(\"- Toggle individual layer checkboxes to show/hide specific layers\")\n",
    "print(\"- Adjust individual layer opacity sliders for fine control\")\n",
    "print(\"\\nAll changes should work in both directions (UI → Python and Python → UI)!\")"
   ]
  },
  {
   "cell_type": "markdown",
   "metadata": {},
   "source": [
    "## 6. Test Multiple Layer Controls\n",
    "\n",
    "You can add multiple layer controls in different positions with different layer filters."
   ]
  },
  {
   "cell_type": "code",
   "execution_count": null,
   "metadata": {},
   "outputs": [],
   "source": [
    "# Add a second layer control with only specific layers\n",
    "m.add_layer_control(\n",
    "    position=\"top-left\",\n",
    "    collapsed=True,\n",
    "    layers=[\"test-points\", \"test-line\"],  # Only show these layers\n",
    ")\n",
    "\n",
    "print(\"Added second layer control on top-left with filtered layers.\")\n",
    "print(\"The left control should only show test-points and test-line.\")\n",
    "print(\"The right control should show all layers including Background.\")"
   ]
  },
  {
   "cell_type": "code",
   "execution_count": null,
   "metadata": {},
   "outputs": [],
   "source": [
    "# Export to HTML with improved styling that matches the notebook appearance\n",
    "html = m.to_html(\"layer_control.html\", title=\"Layer Control Test\")\n",
    "\n",
    "print(\"✓ Map exported to HTML with enhanced layer control styling!\")\n",
    "print(\"\\\\nThe exported HTML now features:\")\n",
    "print(\"- Professional SVG layers icon (3 stacked rectangles)\")\n",
    "print(\"- Gray gradient opacity sliders matching notebook appearance\")\n",
    "print(\"- Consistent typography and spacing\")\n",
    "print(\"- Proper hover effects and visual feedback\")\n",
    "print(\"- Clean scrollbar styling\")\n",
    "print(\"- All interactive functionality preserved\")\n",
    "print(\"\\\\nThe layer control appearance now matches the Jupyter notebook exactly!\")\n",
    "print(\"\\\\nOpen layer_control.html in a browser to see the improved styling!\")"
   ]
  },
  {
   "cell_type": "markdown",
   "metadata": {},
   "source": [
    "## Summary\n",
    "\n",
    "The layer control implementation now provides:\n",
    "\n",
    "### Features:\n",
    "- **Collapsible Panel**: Click the icon to expand/collapse the layer list\n",
    "- **Visibility Control**: Checkboxes to toggle layer visibility\n",
    "- **Opacity Control**: Sliders to adjust layer transparency\n",
    "- **Layer Filtering**: Optional parameter to show only specific layers\n",
    "- **Multiple Controls**: Add controls in different positions with different layer sets\n",
    "- **Bidirectional Sync**: Changes work both ways (UI ↔ Python)\n",
    "\n",
    "### Background Layer Handling:\n",
    "- All map style layers (landcover, parks, roads, etc.) are grouped under \"Background Map\"\n",
    "- User-added layers appear as individual controls\n",
    "- Background control affects all style layers simultaneously\n",
    "- Individual layer controls only affect their specific layer"
   ]
  }
 ],
 "metadata": {
  "kernelspec": {
   "display_name": "Python 3",
   "language": "python",
   "name": "python3"
  },
  "language_info": {
   "codemirror_mode": {
    "name": "ipython",
    "version": 3
   },
   "file_extension": ".py",
   "mimetype": "text/x-python",
   "name": "python",
   "nbconvert_exporter": "python",
   "pygments_lexer": "ipython3",
   "version": "3.12.2"
  }
 },
 "nbformat": 4,
 "nbformat_minor": 4
}
