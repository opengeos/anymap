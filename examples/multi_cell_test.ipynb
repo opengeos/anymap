{
 "cells": [
  {
   "cell_type": "markdown",
   "metadata": {},
   "source": [
    "# Multi-Cell Rendering Test\n",
    "\n",
    "This notebook specifically tests that anymap widgets can be rendered in multiple cells without issues.\n",
    "\n",
    "## Resize Improvements ✨\n",
    "\n",
    "The latest version includes several improvements for proper responsive sizing:\n",
    "- **ResizeObserver**: Automatically detects container size changes\n",
    "- **Multiple resize triggers**: Ensures maps resize on load and visibility changes  \n",
    "- **Improved CSS**: Better responsive container styling\n",
    "- **DOM readiness handling**: Uses requestAnimationFrame for timing\n",
    "\n",
    "Maps should now properly fill their containers in all cells without manual browser resizing."
   ]
  },
  {
   "cell_type": "code",
   "execution_count": null,
   "metadata": {},
   "outputs": [],
   "source": [
    "from anymap import MapLibreMap\n",
    "\n",
    "print(\"AnyMap imported successfully!\")"
   ]
  },
  {
   "cell_type": "markdown",
   "metadata": {},
   "source": [
    "## Test 1: Create a Map Instance"
   ]
  },
  {
   "cell_type": "code",
   "execution_count": null,
   "metadata": {},
   "outputs": [],
   "source": [
    "# Create the first map\n",
    "m1 = MapLibreMap(center=[37.7749, -122.4194], zoom=12, height=\"300px\")  # San Francisco\n",
    "m1"
   ]
  },
  {
   "cell_type": "markdown",
   "metadata": {},
   "source": [
    "## Test 2: Display Same Map in Another Cell"
   ]
  },
  {
   "cell_type": "code",
   "execution_count": null,
   "metadata": {},
   "outputs": [],
   "source": [
    "# Display the same map instance again\n",
    "m1"
   ]
  },
  {
   "cell_type": "markdown",
   "metadata": {},
   "source": [
    "## Test 3: Modify Map and Display Again"
   ]
  },
  {
   "cell_type": "code",
   "execution_count": null,
   "metadata": {},
   "outputs": [],
   "source": [
    "# Modify the map\n",
    "m1.set_center(40.7128, -74.0060)  # New York\n",
    "m1.set_zoom(10)\n",
    "m1.add_marker(40.7128, -74.0060, popup=\"New York City\")"
   ]
  },
  {
   "cell_type": "code",
   "execution_count": null,
   "metadata": {},
   "outputs": [],
   "source": [
    "# Display again after modifications\n",
    "m1"
   ]
  },
  {
   "cell_type": "markdown",
   "metadata": {},
   "source": [
    "## Test 4: Create Second Map Instance"
   ]
  },
  {
   "cell_type": "code",
   "execution_count": null,
   "metadata": {},
   "outputs": [],
   "source": [
    "# Create a second independent map\n",
    "m2 = MapLibreMap(center=[51.5074, -0.1278], zoom=14, height=\"400px\")  # London\n",
    "m2.add_marker(51.5074, -0.1278, popup=\"London, UK\")\n",
    "m2"
   ]
  },
  {
   "cell_type": "markdown",
   "metadata": {},
   "source": [
    "## Test 5: Display Both Maps in Same Cell"
   ]
  },
  {
   "cell_type": "code",
   "execution_count": null,
   "metadata": {},
   "outputs": [],
   "source": [
    "# Display first map\n",
    "display(m1)\n",
    "print(\"First map (New York) displayed above\")\n",
    "\n",
    "# Display second map\n",
    "display(m2)\n",
    "print(\"Second map (London) displayed above\")"
   ]
  },
  {
   "cell_type": "markdown",
   "metadata": {},
   "source": [
    "## Test 6: Interactive Test"
   ]
  },
  {
   "cell_type": "code",
   "execution_count": null,
   "metadata": {},
   "outputs": [],
   "source": [
    "# Set up event handlers to test interactivity\n",
    "click_count = 0\n",
    "\n",
    "\n",
    "def handle_click(event):\n",
    "    global click_count\n",
    "    click_count += 1\n",
    "    lat, lng = event[\"lngLat\"]\n",
    "    print(f\"Click #{click_count}: {lat:.4f}, {lng:.4f}\")\n",
    "\n",
    "\n",
    "m1.on_map_event(\"click\", handle_click)\n",
    "m2.on_map_event(\"click\", handle_click)\n",
    "\n",
    "print(\"Event handlers registered. Click on the maps to test!\")"
   ]
  },
  {
   "cell_type": "code",
   "execution_count": null,
   "metadata": {},
   "outputs": [],
   "source": [
    "# Display maps again for interaction testing\n",
    "m1"
   ]
  },
  {
   "cell_type": "code",
   "execution_count": null,
   "metadata": {},
   "outputs": [],
   "source": [
    "m2"
   ]
  },
  {
   "cell_type": "markdown",
   "metadata": {},
   "source": [
    "## Test 7: Create Multiple Maps in Loop"
   ]
  },
  {
   "cell_type": "code",
   "execution_count": null,
   "metadata": {},
   "outputs": [],
   "source": [
    "# Create multiple map instances\n",
    "cities = [\n",
    "    {\"name\": \"Tokyo\", \"coords\": [35.6762, 139.6503]},\n",
    "    {\"name\": \"Sydney\", \"coords\": [-33.8688, 151.2093]},\n",
    "    {\"name\": \"Cairo\", \"coords\": [30.0444, 31.2357]},\n",
    "]\n",
    "\n",
    "maps = []\n",
    "for i, city in enumerate(cities):\n",
    "    m = MapLibreMap(center=city[\"coords\"], zoom=11, height=\"300px\")\n",
    "    m.add_marker(city[\"coords\"][0], city[\"coords\"][1], popup=f\"<h3>{city['name']}</h3>\")\n",
    "    maps.append(m)\n",
    "    print(f\"Created map for {city['name']}\")\n",
    "\n",
    "print(f\"\\nCreated {len(maps)} maps total\")"
   ]
  },
  {
   "cell_type": "code",
   "execution_count": null,
   "metadata": {},
   "outputs": [],
   "source": [
    "# Display all maps\n",
    "for i, m in enumerate(maps):\n",
    "    print(f\"Map {i+1}: {cities[i]['name']}\")\n",
    "    display(m)"
   ]
  },
  {
   "cell_type": "markdown",
   "metadata": {},
   "source": [
    "## Summary\n",
    "\n",
    "If you can see all the maps above and they render correctly without conflicts, then the multi-cell rendering functionality is working properly!"
   ]
  }
 ],
 "metadata": {
  "kernelspec": {
   "display_name": "Python 3",
   "language": "python",
   "name": "python3"
  },
  "language_info": {
   "codemirror_mode": {
    "name": "ipython",
    "version": 3
   },
   "file_extension": ".py",
   "mimetype": "text/x-python",
   "name": "python",
   "nbconvert_exporter": "python",
   "pygments_lexer": "ipython3",
   "version": "3.12.2"
  }
 },
 "nbformat": 4,
 "nbformat_minor": 4
}
