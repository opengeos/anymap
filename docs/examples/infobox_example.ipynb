{
 "cells": [
  {
   "cell_type": "markdown",
   "metadata": {},
   "source": [
    "# InfoBox and GradientBox Controls Example\n",
    "\n",
    "This notebook demonstrates how to use the `mapbox-gl-infobox` plugin with AnyMap's MapLibre maps.\n",
    "It shows both the InfoBox (feature attributes) and GradientBox (value legend) controls."
   ]
  },
  {
   "cell_type": "code",
   "execution_count": null,
   "metadata": {},
   "outputs": [],
   "source": [
    "from anymap import MapLibreMap"
   ]
  },
  {
   "cell_type": "markdown",
   "metadata": {},
   "source": [
    "## Create a map and add a demo layer"
   ]
  },
  {
   "cell_type": "code",
   "execution_count": null,
   "metadata": {},
   "outputs": [],
   "source": [
    "# Create a MapLibre map and add world cities from the provided dataset\n",
    "import json, urllib.request\n",
    "\n",
    "m = MapLibreMap(center=[0, 20], zoom=2.5, style=\"liberty\", height=\"600px\")\n",
    "\n",
    "with urllib.request.urlopen(\n",
    "    \"https://github.com/opengeos/datasets/releases/download/world/world_cities.geojson\"\n",
    ") as resp:\n",
    "    world_cities = json.load(resp)\n",
    "\n",
    "m.add_geojson_layer(\n",
    "    layer_id=\"world-cities\",\n",
    "    geojson_data=world_cities,\n",
    "    layer_type=\"circle\",\n",
    "    paint={\n",
    "        \"circle-radius\": 3,\n",
    "        \"circle-color\": \"#e11d48\",\n",
    "        \"circle-opacity\": 0.7,\n",
    "        \"circle-stroke-width\": 0.5,\n",
    "        \"circle-stroke-color\": \"#ffffff\",\n",
    "    },\n",
    ")\n",
    "\n",
    "m"
   ]
  },
  {
   "cell_type": "markdown",
   "metadata": {},
   "source": [
    "## Add InfoBox control"
   ]
  },
  {
   "cell_type": "code",
   "execution_count": null,
   "metadata": {},
   "outputs": [],
   "source": [
    "# Show feature attributes when hovering/clicking on cities\n",
    "m.add_infobox_control(\n",
    "    position=\"bottom-right\",\n",
    "    layer_id=\"world-cities\",\n",
    "    formatter=\"<div style='margin: 8px; font-size: 14px;'><b>{{name}}</b><br/>Population: {{population}}</div>\",\n",
    "    collapsed=False,\n",
    ")\n",
    "# m"
   ]
  },
  {
   "cell_type": "markdown",
   "metadata": {},
   "source": [
    "## Add GradientBox control"
   ]
  },
  {
   "cell_type": "code",
   "execution_count": null,
   "metadata": {},
   "outputs": [],
   "source": [
    "# Display a population legend for the dataset\n",
    "m.add_gradientbox_control(\n",
    "    position=\"top-left\",\n",
    "    layer_id=\"world-cities\",\n",
    "    weight_property=\"population\",\n",
    "    min_value=0,\n",
    "    max_value=40000000,\n",
    "    colors=[\"#ffffcc\", \"#a1dab4\", \"#41b6c4\", \"#225ea8\", \"#ffffff\"],\n",
    "    collapsed=True,\n",
    ")\n",
    "# m"
   ]
  },
  {
   "cell_type": "code",
   "execution_count": null,
   "metadata": {},
   "outputs": [],
   "source": []
  }
 ],
 "metadata": {
  "kernelspec": {
   "display_name": "Python 3",
   "language": "python",
   "name": "python3"
  },
  "language_info": {
   "codemirror_mode": {
    "name": "ipython",
    "version": 3
   },
   "file_extension": ".py",
   "mimetype": "text/x-python",
   "name": "python",
   "nbconvert_exporter": "python",
   "pygments_lexer": "ipython3",
   "version": "3.12.2"
  }
 },
 "nbformat": 4,
 "nbformat_minor": 4
}
