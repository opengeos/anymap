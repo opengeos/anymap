{
 "cells": [
  {
   "cell_type": "markdown",
   "id": "0",
   "metadata": {},
   "source": [
    "# Add Geoman Draw Control"
   ]
  },
  {
   "cell_type": "code",
   "execution_count": null,
   "id": "1",
   "metadata": {},
   "outputs": [],
   "source": [
    "from anymap.maplibre import MapLibreMap\n",
    "\n",
    "m = MapLibreMap()\n",
    "m.add_basemap(\"Esri.WorldImagery\")\n",
    "m.add_geoman_control()\n",
    "# m.add_geoman_control(\n",
    "#             position=\"top-left\",\n",
    "#             geoman_options={\"settings\": {\"controlsCollapsible\": False}},\n",
    "#             settings={\"controlsPosition\": \"top-right\"},\n",
    "#             controls={\"draw\": {\"polygon\": {\"active\": True}}},\n",
    "#             collapsed=False,\n",
    "#         )\n",
    "m"
   ]
  },
  {
   "cell_type": "code",
   "execution_count": null,
   "id": "2",
   "metadata": {},
   "outputs": [],
   "source": []
  }
 ],
 "metadata": {
  "kernelspec": {
   "display_name": "Python 3",
   "language": "python",
   "name": "python3"
  },
  "language_info": {
   "codemirror_mode": {
    "name": "ipython",
    "version": 3
   },
   "file_extension": ".py",
   "mimetype": "text/x-python",
   "name": "python",
   "nbconvert_exporter": "python",
   "pygments_lexer": "ipython3",
   "version": "3.12.2"
  }
 },
 "nbformat": 4,
 "nbformat_minor": 5
}
