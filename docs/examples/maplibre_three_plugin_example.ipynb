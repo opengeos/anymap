{
 "cells": [
  {
   "cell_type": "markdown",
   "metadata": {},
   "source": [
    "# MapLibre Three.js Plugin Example\n",
    "\n",
    "This notebook demonstrates how to use the MapLibre Three.js plugin to add 3D models to your map using Three.js and GLTF models.\n",
    "\n",
    "The `maplibre-three-plugin` connects MapLibre GL JS with Three.js, enabling developers to implement 3D rendering and animation on maps."
   ]
  },
  {
   "cell_type": "code",
   "execution_count": null,
   "metadata": {},
   "outputs": [],
   "source": [
    "from anymap import MapLibreMap"
   ]
  },
  {
   "cell_type": "markdown",
   "metadata": {},
   "source": [
    "## Basic 3D Model Example\n",
    "\n",
    "First, let's create a map with a tilted view (pitch) which is better for viewing 3D models."
   ]
  },
  {
   "cell_type": "code",
   "execution_count": null,
   "metadata": {},
   "outputs": [],
   "source": [
    "# Create a map centered on Canberra, Australia with pitch for 3D viewing\n",
    "m = MapLibreMap(\n",
    "    center=[149.1300, -35.2809],  # Canberra\n",
    "    zoom=16,\n",
    "    pitch=60,  # Tilt the map for better 3D viewing\n",
    "    bearing=0,\n",
    "    height=\"600px\",\n",
    ")\n",
    "\n",
    "# Initialize the Three.js scene\n",
    "m.init_three_scene()\n",
    "\n",
    "# Add lighting to the scene\n",
    "m.add_three_light(light_type=\"ambient\", intensity=0.5)\n",
    "m.add_three_light(light_type=\"directional\", intensity=0.8, position=[1, 1, 1])\n",
    "\n",
    "m"
   ]
  },
  {
   "cell_type": "markdown",
   "metadata": {},
   "source": [
    "## Adding a 3D GLTF Model\n",
    "\n",
    "Now let's add a 3D model to the map. We'll use a publicly available GLTF model."
   ]
  },
  {
   "cell_type": "code",
   "execution_count": null,
   "metadata": {},
   "outputs": [],
   "source": [
    "# Add a 3D model\n",
    "# Using a sample GLTF model - you can replace this with any GLTF/GLB URL\n",
    "m.add_three_model(\n",
    "    model_id=\"sample_building\",\n",
    "    url=\"https://raw.githubusercontent.com/KhronosGroup/glTF-Sample-Models/master/2.0/Box/glTF/Box.gltf\",\n",
    "    coordinates=[149.1300, -35.2809],  # [longitude, latitude]\n",
    "    scale=50,  # Scale the model to make it visible\n",
    "    rotation=[0, 0, 0],  # Optional rotation in radians [x, y, z]\n",
    ")"
   ]
  },
  {
   "cell_type": "markdown",
   "metadata": {},
   "source": [
    "## Using the Sun Light\n",
    "\n",
    "The maplibre-three-plugin includes a Sun object for realistic lighting based on time of day."
   ]
  },
  {
   "cell_type": "code",
   "execution_count": null,
   "metadata": {},
   "outputs": [],
   "source": [
    "# Create another map with sun lighting\n",
    "m2 = MapLibreMap(\n",
    "    center=[148.9819, -35.3981],  # Different location in Canberra\n",
    "    zoom=18,\n",
    "    pitch=60,\n",
    "    bearing=45,\n",
    "    height=\"600px\",\n",
    ")\n",
    "\n",
    "# Initialize Three.js scene\n",
    "m2.init_three_scene()\n",
    "\n",
    "# Add sun and ambient light\n",
    "m2.add_three_light(light_type=\"sun\")\n",
    "m2.add_three_light(light_type=\"ambient\", intensity=0.3)\n",
    "\n",
    "# Add a 3D model\n",
    "m2.add_three_model(\n",
    "    model_id=\"model_with_sun\",\n",
    "    url=\"https://raw.githubusercontent.com/KhronosGroup/glTF-Sample-Models/master/2.0/Duck/glTF/Duck.gltf\",\n",
    "    coordinates=[148.9819, -35.3981],\n",
    "    scale=100,\n",
    "    rotation=[0, 0, 0],\n",
    ")\n",
    "\n",
    "m2"
   ]
  },
  {
   "cell_type": "markdown",
   "metadata": {},
   "source": [
    "## Multiple 3D Models\n",
    "\n",
    "You can add multiple 3D models to the same map."
   ]
  },
  {
   "cell_type": "code",
   "execution_count": null,
   "metadata": {},
   "outputs": [],
   "source": [
    "# Create a map with multiple models\n",
    "m3 = MapLibreMap(\n",
    "    center=[-74.0060, 40.7128],  # New York City\n",
    "    zoom=16,\n",
    "    pitch=60,\n",
    "    bearing=30,\n",
    "    height=\"600px\",\n",
    ")\n",
    "\n",
    "# Initialize Three.js scene\n",
    "m3.init_three_scene()\n",
    "\n",
    "# Add multiple lights for better illumination\n",
    "m3.add_three_light(light_type=\"ambient\", intensity=0.4)\n",
    "m3.add_three_light(light_type=\"directional\", intensity=0.6, position=[1, 1, 1])\n",
    "m3.add_three_light(light_type=\"directional\", intensity=0.4, position=[-1, -1, 1])\n",
    "\n",
    "# Add multiple 3D models at different locations\n",
    "m3.add_three_model(\n",
    "    model_id=\"model_1\",\n",
    "    url=\"https://raw.githubusercontent.com/KhronosGroup/glTF-Sample-Models/master/2.0/Box/glTF/Box.gltf\",\n",
    "    coordinates=[-74.0060, 40.7128],\n",
    "    scale=30,\n",
    ")\n",
    "\n",
    "m3.add_three_model(\n",
    "    model_id=\"model_2\",\n",
    "    url=\"https://raw.githubusercontent.com/KhronosGroup/glTF-Sample-Models/master/2.0/Box/glTF/Box.gltf\",\n",
    "    coordinates=[-74.0050, 40.7128],\n",
    "    scale=40,\n",
    ")\n",
    "\n",
    "m3.add_three_model(\n",
    "    model_id=\"model_3\",\n",
    "    url=\"https://raw.githubusercontent.com/KhronosGroup/glTF-Sample-Models/master/2.0/Box/glTF/Box.gltf\",\n",
    "    coordinates=[-74.0060, 40.7138],\n",
    "    scale=50,\n",
    ")\n",
    "\n",
    "m3"
   ]
  },
  {
   "cell_type": "markdown",
   "metadata": {},
   "source": [
    "## Updating 3D Models\n",
    "\n",
    "You can update the properties of existing 3D models."
   ]
  },
  {
   "cell_type": "code",
   "execution_count": null,
   "metadata": {},
   "outputs": [],
   "source": [
    "# Update the scale and rotation of model_1\n",
    "import math\n",
    "\n",
    "m3.update_three_model(\n",
    "    model_id=\"model_1\",\n",
    "    scale=60,  # Make it larger\n",
    "    rotation=[0, math.pi / 4, 0],  # Rotate 45 degrees around Y axis\n",
    ")"
   ]
  },
  {
   "cell_type": "markdown",
   "metadata": {},
   "source": [
    "## Removing 3D Models\n",
    "\n",
    "You can remove models from the scene."
   ]
  },
  {
   "cell_type": "code",
   "execution_count": null,
   "metadata": {},
   "outputs": [],
   "source": [
    "# Remove model_2\n",
    "m3.remove_three_model(\"model_2\")"
   ]
  },
  {
   "cell_type": "markdown",
   "metadata": {},
   "source": [
    "## Advanced Example with Custom Lighting\n",
    "\n",
    "Create a more complex scene with custom lighting and styled models."
   ]
  },
  {
   "cell_type": "code",
   "execution_count": null,
   "metadata": {},
   "outputs": [],
   "source": [
    "# Create a map with custom styling\n",
    "m4 = MapLibreMap(\n",
    "    center=[-122.4194, 37.7749],  # San Francisco\n",
    "    zoom=17,\n",
    "    pitch=70,\n",
    "    bearing=60,\n",
    "    height=\"700px\",\n",
    "    style=\"3d-satellite\",  # Use satellite style for better 3D context\n",
    ")\n",
    "\n",
    "# Initialize Three.js scene\n",
    "m4.init_three_scene()\n",
    "\n",
    "# Create a dramatic lighting setup\n",
    "m4.add_three_light(light_type=\"ambient\", intensity=0.3, color=0x404040)\n",
    "m4.add_three_light(\n",
    "    light_type=\"directional\", intensity=1.0, position=[2, 3, 1], color=0xFFFFFF\n",
    ")\n",
    "m4.add_three_light(\n",
    "    light_type=\"directional\", intensity=0.5, position=[-1, -2, 1], color=0x8080FF\n",
    ")\n",
    "\n",
    "# Add a 3D model\n",
    "m4.add_three_model(\n",
    "    model_id=\"sf_model\",\n",
    "    url=\"https://raw.githubusercontent.com/KhronosGroup/glTF-Sample-Models/master/2.0/Duck/glTF/Duck.gltf\",\n",
    "    coordinates=[-122.4194, 37.7749],\n",
    "    scale=200,\n",
    "    rotation=[0, 0, 0],\n",
    ")\n",
    "\n",
    "m4"
   ]
  },
  {
   "cell_type": "markdown",
   "metadata": {},
   "source": [
    "## Notes\n",
    "\n",
    "- The Three.js scene must be initialized with `init_three_scene()` before adding models or lights\n",
    "- GLTF/GLB model files must be accessible via HTTP/HTTPS URLs\n",
    "- Scale values may need adjustment depending on the model's original size and units\n",
    "- Rotations are specified in radians (use `math.pi` for conversions)\n",
    "- The map's pitch (tilt) should typically be set to a non-zero value (30-70 degrees) for better 3D visualization\n",
    "- Lighting is essential for seeing 3D models properly - always add at least ambient light\n",
    "\n",
    "## Available Light Types\n",
    "\n",
    "1. **ambient**: Provides uniform lighting from all directions\n",
    "2. **directional**: Simulates sunlight with parallel rays from a specific direction\n",
    "3. **sun**: Special sun object that simulates realistic sun lighting\n",
    "\n",
    "## Resources\n",
    "\n",
    "- [maplibre-three-plugin on GitHub](https://github.com/dvt3d/maplibre-three-plugin)\n",
    "- [Three.js Documentation](https://threejs.org/docs/)\n",
    "- [GLTF Sample Models](https://github.com/KhronosGroup/glTF-Sample-Models)"
   ]
  },
  {
   "cell_type": "markdown",
   "metadata": {},
   "source": [
    "### 3D Tiles (TilesRenderer)\n",
    "\n",
    "Stream 3D Tiles content into the MapLibre scene. This sample uses the open\n",
    "`TilesetWithDiscreteLOD` dataset from the Cesium 3D Tiles samples repository: https://github.com/CesiumGS/3d-tiles-samples"
   ]
  },
  {
   "cell_type": "code",
   "execution_count": null,
   "metadata": {},
   "outputs": [],
   "source": [
    "from anymap import MapLibreMap\n",
    "\n",
    "m_tiles = MapLibreMap(\n",
    "    center=[-75.628, 40.028],\n",
    "    zoom=13,\n",
    "    pitch=60,\n",
    "    style=\"dark-matter\",\n",
    "    height=\"600px\",\n",
    ")\n",
    "m_tiles.init_three_scene()\n",
    "m_tiles.add_three_light(light_id=\"tiles-ambient\", light_type=\"ambient\", intensity=0.6)\n",
    "m_tiles.add_three_light(\n",
    "    light_id=\"tiles-directional\",\n",
    "    light_type=\"directional\",\n",
    "    intensity=0.85,\n",
    "    position=[150, 300, 400],\n",
    ")\n",
    "m_tiles.add_three_tileset(\n",
    "    \"discrete_lod\",\n",
    "    url=\"https://raw.githubusercontent.com/CesiumGS/3d-tiles-samples/refs/heads/main/1.0/TilesetWithDiscreteLOD/tileset.json\",\n",
    "    use_fade=True,\n",
    "    height_offset=0,\n",
    "    fly_to=True,\n",
    ")\n",
    "m_tiles"
   ]
  },
  {
   "cell_type": "markdown",
   "metadata": {},
   "source": [
    "### 3D Tiles (Cesium Ion Gaussian Splatting)\n",
    "\n",
    "Gaussian splatting assets hosted on Cesium Ion require an access token.\n",
    "Set the `CESIUM_ION_TOKEN` environment variable before running the cell below.\n",
    "(Experimental support — gaussian tiles may require additional extensions.)"
   ]
  },
  {
   "cell_type": "code",
   "execution_count": null,
   "metadata": {},
   "outputs": [],
   "source": [
    "import os\n",
    "from anymap import MapLibreMap\n",
    "\n",
    "token = os.environ.get(\"CESIUM_TOKEN\")\n",
    "if not token:\n",
    "    print(\"Set CESIUM_ION_TOKEN to stream the Cesium Ion gaussian tileset.\")\n",
    "else:\n",
    "    m_gaussian = MapLibreMap(\n",
    "        center=[-74.0445, 40.6892],\n",
    "        zoom=16,\n",
    "        pitch=60,\n",
    "        style=\"dark-matter\",\n",
    "        height=\"600px\",\n",
    "    )\n",
    "    m_gaussian.init_three_scene()\n",
    "    m_gaussian.add_three_light(\n",
    "        light_id=\"gs-ambient\", light_type=\"ambient\", intensity=0.5\n",
    "    )\n",
    "    m_gaussian.add_three_light(\n",
    "        light_id=\"gs-sun\",\n",
    "        light_type=\"sun\",\n",
    "        sun_options={\"castShadow\": False},\n",
    "    )\n",
    "    m_gaussian.add_three_tileset(\n",
    "        \"cesium_gaussian\",\n",
    "        asset_id=3667783,\n",
    "        ion_token=token,\n",
    "        use_update=True,\n",
    "        fly_to=True,\n",
    "    )"
   ]
  },
  {
   "cell_type": "code",
   "execution_count": null,
   "metadata": {},
   "outputs": [],
   "source": [
    "m_gaussian"
   ]
  }
 ],
 "metadata": {
  "kernelspec": {
   "display_name": "Python 3",
   "language": "python",
   "name": "python3"
  },
  "language_info": {
   "codemirror_mode": {
    "name": "ipython",
    "version": 3
   },
   "file_extension": ".py",
   "mimetype": "text/x-python",
   "name": "python",
   "nbconvert_exporter": "python",
   "pygments_lexer": "ipython3",
   "version": "3.12.2"
  }
 },
 "nbformat": 4,
 "nbformat_minor": 4
}
