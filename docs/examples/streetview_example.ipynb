{
 "cells": [
  {
   "cell_type": "markdown",
   "metadata": {},
   "source": [
    "# Google Street View Example\n",
    "\n",
    "This notebook demonstrates how to use the Google Street View feature in anymap's MapLibre implementation. The Street View control allows users to view street-level imagery at clicked locations on the map."
   ]
  },
  {
   "cell_type": "code",
   "execution_count": null,
   "metadata": {},
   "outputs": [],
   "source": [
    "from anymap import MapLibreMap\n",
    "import os"
   ]
  },
  {
   "cell_type": "markdown",
   "metadata": {},
   "source": [
    "## Setup\n",
    "\n",
    "Before using the Google Street View functionality, you need to have a Google Maps API key. You can:\n",
    "\n",
    "1. Set it as an environment variable: `GOOGLE_MAPS_API_KEY`\n",
    "2. Pass it directly to the `add_google_streetview()` method\n",
    "3. In Google Colab, add it to your userdata with key `GOOGLE_MAPS_API_KEY`\n",
    "\n",
    "**Note**: Make sure your Google Maps API key has the Street View Static API enabled."
   ]
  },
  {
   "cell_type": "markdown",
   "metadata": {},
   "source": [
    "## Basic Street View Setup\n",
    "\n",
    "Create a map centered in New York City and add the Google Street View control."
   ]
  },
  {
   "cell_type": "code",
   "execution_count": null,
   "metadata": {},
   "outputs": [],
   "source": [
    "# Create a map centered in New York City\n",
    "m = MapLibreMap(\n",
    "    center=[-74.0066, 40.7135],  # New York City coordinates\n",
    "    zoom=15,\n",
    "    height=\"600px\",\n",
    "    width=\"100%\",\n",
    ")\n",
    "\n",
    "# Add a basemap for better context\n",
    "m.add_basemap(\"OpenStreetMap.Mapnik\")\n",
    "\n",
    "# Add the Google Street View control\n",
    "# The API key will be automatically retrieved from the GOOGLE_MAPS_API_KEY environment variable\n",
    "try:\n",
    "    m.add_google_streetview(position=\"top-left\")\n",
    "    print(\"✅ Street View control added successfully!\")\n",
    "    print(\"📍 How to use:\")\n",
    "    print(\"   1. Look for the Street View button on the map (person/peg man icon)\")\n",
    "    print(\"   2. Click and drag the pegman to show Street View coverage (blue areas)\")\n",
    "    print(\"   3. Drop the pegman on blue coverage areas to open Street View\")\n",
    "    print(\"   4. The plugin now properly initializes when the map loads\")\n",
    "except ValueError as e:\n",
    "    print(f\"❌ Error: {e}\")\n",
    "    print(\"💡 Please set your GOOGLE_MAPS_API_KEY environment variable\")\n",
    "\n",
    "m"
   ]
  }
 ],
 "metadata": {
  "kernelspec": {
   "display_name": "Python 3",
   "language": "python",
   "name": "python3"
  },
  "language_info": {
   "codemirror_mode": {
    "name": "ipython",
    "version": 3
   },
   "file_extension": ".py",
   "mimetype": "text/x-python",
   "name": "python",
   "nbconvert_exporter": "python",
   "pygments_lexer": "ipython3",
   "version": "3.12.2"
  }
 },
 "nbformat": 4,
 "nbformat_minor": 4
}
