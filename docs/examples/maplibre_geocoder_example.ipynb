{
  "cells": [
    {
      "cell_type": "markdown",
      "metadata": {},
      "source": [
        "# MapLibre GL Geocoder Example\n",
        "\n",
        "This notebook demonstrates how to use the MapLibre GL Geocoder plugin with AnyMap. The MapLibre GL Geocoder is a powerful search control that supports various geocoding services including Maptiler and Mapbox.\n",
        "\n",
        "For more information, see the [MapLibre GL Geocoder GitHub repository](https://github.com/maplibre/maplibre-gl-geocoder)."
      ]
    },
    {
      "cell_type": "code",
      "execution_count": null,
      "metadata": {},
      "outputs": [],
      "source": [
        "from anymap import MapLibreMap"
      ]
    },
    {
      "cell_type": "markdown",
      "metadata": {},
      "source": [
        "## Basic Usage with Maptiler\n",
        "\n",
        "The MapLibre GL Geocoder requires an API key from a geocoding service. This example uses Maptiler's geocoding API.\n",
        "\n",
        "**Note:** You'll need to replace `'YOUR_MAPTILER_API_KEY'` with your actual API key. Get one free at [https://www.maptiler.com/](https://www.maptiler.com/)."
      ]
    },
    {
      "cell_type": "code",
      "execution_count": null,
      "metadata": {},
      "outputs": [],
      "source": [
        "# Create a map centered on San Francisco\n",
        "m = MapLibreMap(\n",
        "    center=[-122.4194, 37.7749],\n",
        "    zoom=12,\n",
        "    style=\"positron\",\n",
        "    height=\"600px\"\n",
        ")\n",
        "\n",
        "# Add MapLibre GL Geocoder with Maptiler API\n",
        "m.add_maplibre_geocoder(\n",
        "    position=\"top-left\",\n",
        "    api_key=\"YOUR_MAPTILER_API_KEY\",\n",
        "    maplibre_api=\"maptiler\",\n",
        "    placeholder=\"Search for places...\",\n",
        "    marker=True,\n",
        "    show_result_markers=True\n",
        ")\n",
        "\n",
        "m"
      ]
    },
    {
      "cell_type": "markdown",
      "metadata": {},
      "source": [
        "## Using Mapbox Geocoding API\n",
        "\n",
        "You can also use Mapbox's geocoding service. You'll need a Mapbox access token from [https://www.mapbox.com/](https://www.mapbox.com/)."
      ]
    },
    {
      "cell_type": "code",
      "execution_count": null,
      "metadata": {},
      "outputs": [],
      "source": [
        "# Create a map centered on New York City\n",
        "m2 = MapLibreMap(\n",
        "    center=[-74.0060, 40.7128],\n",
        "    zoom=11,\n",
        "    style=\"dark-matter\",\n",
        "    height=\"600px\"\n",
        ")\n",
        "\n",
        "# Add MapLibre GL Geocoder with Mapbox API\n",
        "m2.add_maplibre_geocoder(\n",
        "    position=\"top-right\",\n",
        "    api_key=\"YOUR_MAPBOX_ACCESS_TOKEN\",\n",
        "    maplibre_api=\"mapbox\",\n",
        "    placeholder=\"Find a location...\",\n",
        "    language=\"en\",\n",
        "    marker=True\n",
        ")\n",
        "\n",
        "m2"
      ]
    },
    {
      "cell_type": "markdown",
      "metadata": {},
      "source": [
        "## Advanced Configuration: Country and Type Filtering\n",
        "\n",
        "You can filter geocoding results by country and place types:"
      ]
    },
    {
      "cell_type": "code",
      "execution_count": null,
      "metadata": {},
      "outputs": [],
      "source": [
        "# Create a map focused on the United States\n",
        "m3 = MapLibreMap(\n",
        "    center=[-98.5795, 39.8283],\n",
        "    zoom=4,\n",
        "    style=\"liberty\",\n",
        "    height=\"600px\"\n",
        ")\n",
        "\n",
        "# Add geocoder with country filter and specific place types\n",
        "m3.add_maplibre_geocoder(\n",
        "    position=\"top-left\",\n",
        "    api_key=\"YOUR_MAPTILER_API_KEY\",\n",
        "    maplibre_api=\"maptiler\",\n",
        "    placeholder=\"Search US cities...\",\n",
        "    country=\"us\",  # Limit to United States\n",
        "    types=\"place,locality\",  # Only show cities and localities\n",
        "    limit=10,\n",
        "    marker=True\n",
        ")\n",
        "\n",
        "m3"
      ]
    },
    {
      "cell_type": "markdown",
      "metadata": {},
      "source": [
        "## Using Proximity Bias\n",
        "\n",
        "Bias search results towards a specific location using the `proximity` parameter:"
      ]
    },
    {
      "cell_type": "code",
      "execution_count": null,
      "metadata": {},
      "outputs": [],
      "source": [
        "# Create a map centered on London\n",
        "m4 = MapLibreMap(\n",
        "    center=[-0.1276, 51.5074],\n",
        "    zoom=11,\n",
        "    style=\"positron\",\n",
        "    height=\"600px\"\n",
        ")\n",
        "\n",
        "# Add geocoder with proximity bias towards London\n",
        "m4.add_maplibre_geocoder(\n",
        "    position=\"top-left\",\n",
        "    api_key=\"YOUR_MAPTILER_API_KEY\",\n",
        "    maplibre_api=\"maptiler\",\n",
        "    placeholder=\"Search near London...\",\n",
        "    proximity=[-0.1276, 51.5074],  # [lng, lat] for London\n",
        "    marker=True,\n",
        "    language=\"en\"\n",
        ")\n",
        "\n",
        "m4"
      ]
    },
    {
      "cell_type": "markdown",
      "metadata": {},
      "source": [
        "## Using Bounding Box Filter\n",
        "\n",
        "Limit search results to a specific bounding box:"
      ]
    },
    {
      "cell_type": "code",
      "execution_count": null,
      "metadata": {},
      "outputs": [],
      "source": [
        "# Create a map of California\n",
        "m5 = MapLibreMap(\n",
        "    center=[-119.4179, 36.7783],\n",
        "    zoom=6,\n",
        "    style=\"positron\",\n",
        "    height=\"600px\"\n",
        ")\n",
        "\n",
        "# Add geocoder with bounding box for California\n",
        "# Bounding box: [minLng, minLat, maxLng, maxLat]\n",
        "m5.add_maplibre_geocoder(\n",
        "    position=\"top-left\",\n",
        "    api_key=\"YOUR_MAPTILER_API_KEY\",\n",
        "    maplibre_api=\"maptiler\",\n",
        "    placeholder=\"Search in California...\",\n",
        "    bbox=[-124.48, 32.53, -114.13, 42.01],  # California bounds\n",
        "    marker=True\n",
        ")\n",
        "\n",
        "m5"
      ]
    },
    {
      "cell_type": "markdown",
      "metadata": {},
      "source": [
        "## Customizing Geocoder Behavior\n",
        "\n",
        "Control various aspects of the geocoder's behavior:"
      ]
    },
    {
      "cell_type": "code",
      "execution_count": null,
      "metadata": {},
      "outputs": [],
      "source": [
        "# Create a map\n",
        "m6 = MapLibreMap(\n",
        "    center=[2.3522, 48.8566],\n",
        "    zoom=12,\n",
        "    style=\"dark-matter\",\n",
        "    height=\"600px\"\n",
        ")\n",
        "\n",
        "# Add geocoder with custom behavior settings\n",
        "m6.add_maplibre_geocoder(\n",
        "    position=\"top-right\",\n",
        "    api_key=\"YOUR_MAPTILER_API_KEY\",\n",
        "    maplibre_api=\"maptiler\",\n",
        "    placeholder=\"Search for places in French...\",\n",
        "    language=\"fr\",  # French language results\n",
        "    collapsed=True,  # Start collapsed (icon only)\n",
        "    clear_on_blur=True,  # Clear search when input loses focus\n",
        "    clear_and_blur_on_esc=True,  # Clear and unfocus on ESC key\n",
        "    min_length=3,  # Minimum 3 characters to trigger search\n",
        "    limit=8,  # Show up to 8 results\n",
        "    marker=True,\n",
        "    show_result_markers=False,  # Don't show markers for all results\n",
        "    enable_event_logging=True  # Enable console logging\n",
        ")\n",
        "\n",
        "m6"
      ]
    },
    {
      "cell_type": "markdown",
      "metadata": {},
      "source": [
        "## Combining with Other Controls\n",
        "\n",
        "The MapLibre GL Geocoder works seamlessly with other map controls:"
      ]
    },
    {
      "cell_type": "code",
      "execution_count": null,
      "metadata": {},
      "outputs": [],
      "source": [
        "# Create a comprehensive map with multiple controls\n",
        "m7 = MapLibreMap(\n",
        "    center=[-87.6298, 41.8781],  # Chicago\n",
        "    zoom=11,\n",
        "    style=\"liberty\",\n",
        "    height=\"600px\"\n",
        ")\n",
        "\n",
        "# Add MapLibre GL Geocoder\n",
        "m7.add_maplibre_geocoder(\n",
        "    position=\"top-left\",\n",
        "    api_key=\"YOUR_MAPTILER_API_KEY\",\n",
        "    maplibre_api=\"maptiler\",\n",
        "    placeholder=\"Search Chicago...\",\n",
        "    proximity=[-87.6298, 41.8781],\n",
        "    country=\"us\"\n",
        ")\n",
        "\n",
        "# Add other controls\n",
        "m7.add_control(\"navigation\", \"top-right\")\n",
        "m7.add_control(\"fullscreen\", \"top-right\")\n",
        "m7.add_control(\"scale\", \"bottom-left\")\n",
        "\n",
        "m7"
      ]
    },
    {
      "cell_type": "markdown",
      "metadata": {},
      "source": [
        "## Export to HTML\n",
        "\n",
        "Maps with the MapLibre GL Geocoder can be exported to standalone HTML files:"
      ]
    },
    {
      "cell_type": "code",
      "execution_count": null,
      "metadata": {},
      "outputs": [],
      "source": [
        "# Export the map with geocoder to HTML\n",
        "m.to_html(\"maplibre_geocoder_map.html\")\n",
        "print(\"Map with MapLibre GL Geocoder exported to maplibre_geocoder_map.html\")"
      ]
    },
    {
      "cell_type": "markdown",
      "metadata": {},
      "source": [
        "## API Key Notes\n",
        "\n",
        "### Maptiler\n",
        "- Sign up at [https://www.maptiler.com/](https://www.maptiler.com/)\n",
        "- Free tier includes 100,000 geocoding requests per month\n",
        "- Use `maplibre_api=\"maptiler\"`\n",
        "\n",
        "### Mapbox\n",
        "- Sign up at [https://www.mapbox.com/](https://www.mapbox.com/)\n",
        "- Free tier includes 100,000 geocoding requests per month\n",
        "- Use `maplibre_api=\"mapbox\"`\n",
        "\n",
        "## Supported Parameters\n",
        "\n",
        "- `position`: Control position on the map\n",
        "- `api_key`: API key for the geocoding service\n",
        "- `maplibre_api`: Geocoding API to use ('maptiler' or 'mapbox')\n",
        "- `language`: Language code for results (e.g., 'en', 'es', 'fr')\n",
        "- `placeholder`: Placeholder text in the search input\n",
        "- `proximity`: [lng, lat] to bias results towards a location\n",
        "- `bbox`: [minLng, minLat, maxLng, maxLat] to limit results to a bounding box\n",
        "- `country`: Country code(s) to filter results (e.g., 'us' or 'us,ca')\n",
        "- `types`: Comma-separated place types to filter results\n",
        "- `limit`: Maximum number of results to return\n",
        "- `marker`: Whether to add a marker at the geocoded location\n",
        "- `show_result_markers`: Whether to show markers for all search results\n",
        "- `collapsed`: Whether the control starts collapsed (icon only)\n",
        "- `clear_on_blur`: Clear input when it loses focus\n",
        "- `clear_and_blur_on_esc`: Clear input and remove focus on ESC key\n",
        "- `enable_event_logging`: Enable console logging of geocoder events\n",
        "- `min_length`: Minimum characters to trigger search"
      ]
    }
  ],
  "metadata": {
    "kernelspec": {
      "display_name": "Python 3",
      "language": "python",
      "name": "python3"
    },
    "language_info": {
      "codemirror_mode": {
        "name": "ipython",
        "version": 3
      },
      "file_extension": ".py",
      "mimetype": "text/x-python",
      "name": "python",
      "nbconvert_exporter": "python",
      "pygments_lexer": "ipython3",
      "version": "3.9.0"
    }
  },
  "nbformat": 4,
  "nbformat_minor": 4
}
