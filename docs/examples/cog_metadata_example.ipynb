{
 "cells": [
  {
   "cell_type": "markdown",
   "metadata": {},
   "source": [
    "# COG Metadata Example\n",
    "\n",
    "This notebook demonstrates how to retrieve and use metadata from Cloud Optimized GeoTIFF (COG) files using the AnyMap package.\n",
    "\n",
    "## Overview\n",
    "\n",
    "The `get_cog_metadata()` function retrieves metadata from COG files, including:\n",
    "- Bounding box (bbox) - **Returned in EPSG:4326 (WGS84) by default**\n",
    "- Width and height (in pixels)\n",
    "- Coordinate reference system (CRS)\n",
    "- Number of bands\n",
    "- Data types\n",
    "- NoData value\n",
    "- Scale and offset values (if available)\n",
    "\n",
    "**Important:** By default, the bounding box coordinates are reprojected to EPSG:4326 (WGS84) for compatibility with MapLibre. You can get coordinates in the native CRS by passing `crs=None`.\n",
    "\n",
    "**Note:** This feature uses the `getCogMetadata` function from maplibre-cog-protocol, which is marked as [unstable]. Some metadata internals may change in future releases."
   ]
  },
  {
   "cell_type": "code",
   "execution_count": null,
   "metadata": {},
   "outputs": [],
   "source": [
    "from anymap import MapLibreMap\n",
    "from anymap.utils import get_cog_metadata"
   ]
  },
  {
   "cell_type": "markdown",
   "metadata": {},
   "source": [
    "## Example 1: Get COG Metadata with Default CRS (EPSG:4326)\n",
    "\n",
    "By default, the bounding box coordinates are reprojected to EPSG:4326 (WGS84) for easy use with MapLibre."
   ]
  },
  {
   "cell_type": "code",
   "execution_count": null,
   "metadata": {},
   "outputs": [],
   "source": [
    "# Sample COG URL from MapLibre documentation\n",
    "cog_url = \"https://maplibre.org/maplibre-gl-js/docs/assets/cog.tif\"\n",
    "\n",
    "# Get metadata with default CRS (EPSG:4326)\n",
    "metadata = get_cog_metadata(cog_url)\n",
    "\n",
    "if metadata:\n",
    "    print(\"COG Metadata (bbox in EPSG:4326):\")\n",
    "    print(\"=\" * 50)\n",
    "    for key, value in metadata.items():\n",
    "        print(f\"{key:15}: {value}\")\n",
    "\n",
    "    print(\"\\n\" + \"=\" * 50)\n",
    "    print(\"Note: The bbox coordinates are in EPSG:4326 (WGS84)\")\n",
    "    print(f\"Native CRS: {metadata.get('crs')}\")\n",
    "    print(f\"Output CRS: {metadata.get('output_crs')}\")\n",
    "else:\n",
    "    print(\"Failed to retrieve metadata. Make sure rasterio is installed:\")\n",
    "    print(\"pip install rasterio\")"
   ]
  },
  {
   "cell_type": "markdown",
   "metadata": {},
   "source": [
    "## Example 2: Get COG Metadata in Native CRS\n",
    "\n",
    "You can also retrieve the metadata in the COG's native CRS by passing `crs=None`."
   ]
  },
  {
   "cell_type": "code",
   "execution_count": null,
   "metadata": {},
   "outputs": [],
   "source": [
    "# Get metadata in native CRS (EPSG:3857 in this case)\n",
    "metadata_native = get_cog_metadata(cog_url, crs=None)\n",
    "\n",
    "if metadata_native:\n",
    "    print(\"COG Metadata (bbox in native CRS):\")\n",
    "    print(\"=\" * 50)\n",
    "    bbox = metadata_native.get(\"bbox\")\n",
    "    if bbox:\n",
    "        print(f\"Bounding Box (native CRS):\")\n",
    "        print(f\"  West:  {bbox[0]:.2f}\")\n",
    "        print(f\"  South: {bbox[1]:.2f}\")\n",
    "        print(f\"  East:  {bbox[2]:.2f}\")\n",
    "        print(f\"  North: {bbox[3]:.2f}\")\n",
    "\n",
    "    print(f\"\\nNative CRS: {metadata_native.get('crs')}\")\n",
    "    print(f\"Output CRS: {metadata_native.get('output_crs')}\")\n",
    "    print(\n",
    "        f\"Dimensions: {metadata_native.get('width')} x {metadata_native.get('height')} pixels\"\n",
    "    )\n",
    "    print(f\"Bands: {metadata_native.get('count')}\")\n",
    "\n",
    "print(\"\\n\" + \"=\" * 50)\n",
    "print(\"COMPARISON:\")\n",
    "print(\"=\" * 50)\n",
    "if metadata and metadata_native:\n",
    "    print(f\"EPSG:4326 bbox: {metadata.get('bbox')}\")\n",
    "    print(f\"Native bbox:    {metadata_native.get('bbox')}\")"
   ]
  },
  {
   "cell_type": "markdown",
   "metadata": {},
   "source": [
    "## Example 3: Using Map Instance Method\n",
    "\n",
    "You can also use the `get_cog_metadata()` method directly on a MapLibreMap instance."
   ]
  },
  {
   "cell_type": "code",
   "execution_count": null,
   "metadata": {},
   "outputs": [],
   "source": [
    "# Create a map instance\n",
    "m = MapLibreMap()\n",
    "\n",
    "# Get metadata using the map instance method (defaults to EPSG:4326)\n",
    "cog_url = \"https://huggingface.co/datasets/giswqs/geospatial/resolve/main/naip_rgb_train_3857.tif\"\n",
    "metadata = m.get_cog_metadata(cog_url)\n",
    "\n",
    "if metadata:\n",
    "    print(\"Using MapLibreMap instance method:\")\n",
    "    print(\"=\" * 50)\n",
    "    bbox = metadata.get(\"bbox\")\n",
    "    if bbox:\n",
    "        print(f\"Bounding Box (EPSG:4326):\")\n",
    "        print(f\"  West:  {bbox[0]:.6f}°\")\n",
    "        print(f\"  South: {bbox[1]:.6f}°\")\n",
    "        print(f\"  East:  {bbox[2]:.6f}°\")\n",
    "        print(f\"  North: {bbox[3]:.6f}°\")\n",
    "\n",
    "    print(f\"\\nDimensions: {metadata.get('width')} x {metadata.get('height')} pixels\")\n",
    "    print(f\"Bands: {metadata.get('count')}\")\n",
    "    print(f\"Native CRS: {metadata.get('crs')}\")\n",
    "    print(f\"Output CRS: {metadata.get('output_crs')}\")"
   ]
  },
  {
   "cell_type": "code",
   "execution_count": null,
   "metadata": {},
   "outputs": [],
   "source": [
    "m"
   ]
  },
  {
   "cell_type": "code",
   "execution_count": null,
   "metadata": {},
   "outputs": [],
   "source": [
    "m.add_cog_layer(layer_id=\"cogLayer\", cog_url=cog_url, fit_bounds=True)"
   ]
  }
 ],
 "metadata": {
  "kernelspec": {
   "display_name": "Python 3",
   "language": "python",
   "name": "python3"
  },
  "language_info": {
   "codemirror_mode": {
    "name": "ipython",
    "version": 3
   },
   "file_extension": ".py",
   "mimetype": "text/x-python",
   "name": "python",
   "nbconvert_exporter": "python",
   "pygments_lexer": "ipython3",
   "version": "3.12.2"
  }
 },
 "nbformat": 4,
 "nbformat_minor": 4
}
