{
 "cells": [
  {
   "cell_type": "markdown",
   "metadata": {},
   "source": [
    "# MapLibre Geocoder Control Example\n",
    "\n",
    "This notebook demonstrates how to use the geocoder control with MapLibre GL JS maps in AnyMap."
   ]
  },
  {
   "cell_type": "code",
   "execution_count": null,
   "metadata": {},
   "outputs": [],
   "source": [
    "from anymap import MapLibreMap"
   ]
  },
  {
   "cell_type": "markdown",
   "metadata": {},
   "source": [
    "## Basic Geocoder Control (Collapsed Mode)\n",
    "\n",
    "Create a map with a collapsed geocoder control that shows only a search icon initially. Click the icon to expand the search input:"
   ]
  },
  {
   "cell_type": "code",
   "execution_count": null,
   "metadata": {},
   "outputs": [],
   "source": [
    "# Create a MapLibre map\n",
    "m = MapLibreMap(\n",
    "    center=[-87.61694, 41.86625], zoom=10, style=\"positron\", height=\"600px\"  # Chicago\n",
    ")\n",
    "\n",
    "# Add a collapsed geocoder control (default behavior)\n",
    "m.add_geocoder_control(position=\"top-left\", collapsed=True)\n",
    "\n",
    "m"
   ]
  },
  {
   "cell_type": "markdown",
   "metadata": {},
   "source": [
    "## Custom Geocoder Configuration\n",
    "\n",
    "You can customize the geocoder with different settings:"
   ]
  },
  {
   "cell_type": "code",
   "execution_count": null,
   "metadata": {},
   "outputs": [],
   "source": [
    "# Create a map with expanded geocoder\n",
    "m_expanded = MapLibreMap(\n",
    "    center=[2.3522, 48.8566], zoom=11, style=\"positron\", height=\"600px\"  # Paris\n",
    ")\n",
    "\n",
    "# Add an expanded geocoder control\n",
    "m_expanded.add_geocoder_control(position=\"top-left\", collapsed=False)\n",
    "\n",
    "m_expanded"
   ]
  },
  {
   "cell_type": "markdown",
   "metadata": {},
   "source": [
    "## Expanded Geocoder Control\n",
    "\n",
    "You can also create a geocoder that shows the input box immediately without requiring a click:"
   ]
  },
  {
   "cell_type": "code",
   "execution_count": null,
   "metadata": {},
   "outputs": [],
   "source": [
    "# Create a map with custom geocoder settings\n",
    "m2 = MapLibreMap(center=[0, 0], zoom=2, style=\"dark-matter\", height=\"600px\")\n",
    "\n",
    "# Add geocoder with custom API configuration\n",
    "custom_api_config = {\n",
    "    \"forwardGeocode\": True,\n",
    "    \"reverseGeocode\": False,\n",
    "    \"placeholder\": \"Search for cities, countries...\",\n",
    "    \"limit\": 10,\n",
    "    \"api_url\": \"https://nominatim.openstreetmap.org/search\",\n",
    "}\n",
    "\n",
    "m2.add_geocoder_control(position=\"top-right\", api_config=custom_api_config)\n",
    "\n",
    "m2"
   ]
  },
  {
   "cell_type": "markdown",
   "metadata": {},
   "source": [
    "## Export to HTML\n",
    "\n",
    "The geocoder control is also preserved when exporting to HTML:"
   ]
  },
  {
   "cell_type": "code",
   "execution_count": null,
   "metadata": {},
   "outputs": [],
   "source": [
    "# Export the map with geocoder to HTML\n",
    "m.to_html(\"geocoder_map.html\")\n",
    "print(\"Map with geocoder control exported to geocoder_map.html\")"
   ]
  },
  {
   "cell_type": "markdown",
   "metadata": {},
   "source": [
    "## Combining with Other Controls\n",
    "\n",
    "The geocoder control works well with other map controls:"
   ]
  },
  {
   "cell_type": "code",
   "execution_count": null,
   "metadata": {},
   "outputs": [],
   "source": [
    "# Create a comprehensive map with multiple controls\n",
    "m3 = MapLibreMap(\n",
    "    center=[-74.0059, 40.7128],  # New York City\n",
    "    zoom=12,\n",
    "    style=\"liberty\",\n",
    "    height=\"600px\",\n",
    ")\n",
    "\n",
    "# Add various controls\n",
    "m3.add_geocoder_control(position=\"top-left\")\n",
    "m3.add_control(\"navigation\", \"top-right\")\n",
    "m3.add_control(\"fullscreen\", \"top-right\")\n",
    "m3.add_control(\"scale\", \"bottom-left\")\n",
    "m3.add_layer_control(position=\"top-right\")\n",
    "\n",
    "# Add a basemap for more visual context\n",
    "m3.add_basemap(\"OpenStreetMap.Mapnik\")\n",
    "\n",
    "m3"
   ]
  }
 ],
 "metadata": {
  "kernelspec": {
   "display_name": "Python 3",
   "language": "python",
   "name": "python3"
  },
  "language_info": {
   "codemirror_mode": {
    "name": "ipython",
    "version": 3
   },
   "file_extension": ".py",
   "mimetype": "text/x-python",
   "name": "python",
   "nbconvert_exporter": "python",
   "pygments_lexer": "ipython3",
   "version": "3.12.2"
  }
 },
 "nbformat": 4,
 "nbformat_minor": 4
}
