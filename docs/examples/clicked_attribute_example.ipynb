{
 "cells": [
  {
   "cell_type": "markdown",
   "metadata": {},
   "source": [
    "# MapLibre Map Clicked Attribute Example\n",
    "\n",
    "This example demonstrates how to use the `clicked` attribute of MapLibreMap to capture map click coordinates."
   ]
  },
  {
   "cell_type": "code",
   "execution_count": null,
   "metadata": {},
   "outputs": [],
   "source": [
    "from anymap.maplibre import MapLibreMap\n",
    "import ipywidgets as widgets\n",
    "from IPython.display import display"
   ]
  },
  {
   "cell_type": "code",
   "execution_count": null,
   "metadata": {},
   "outputs": [],
   "source": [
    "# Create a MapLibre map\n",
    "m = MapLibreMap(center=[-122.4194, 37.7749], zoom=10, style=\"streets\")  # San Francisco\n",
    "\n",
    "m"
   ]
  },
  {
   "cell_type": "code",
   "execution_count": null,
   "metadata": {},
   "outputs": [],
   "source": [
    "# Create a widget to display clicked coordinates\n",
    "output = widgets.Output()\n",
    "\n",
    "\n",
    "def on_map_clicked(change):\n",
    "    clicked_coords = change[\"new\"]\n",
    "    if clicked_coords:  # Check if not empty\n",
    "        with output:\n",
    "            output.clear_output()\n",
    "            print(f\"Map clicked at: {clicked_coords}\")\n",
    "            print(f\"Longitude: {clicked_coords.get('lng', 'N/A')}\")\n",
    "            print(f\"Latitude: {clicked_coords.get('lat', 'N/A')}\")\n",
    "\n",
    "\n",
    "# Observe changes to the clicked attribute\n",
    "m.observe(on_map_clicked, names=\"clicked\")\n",
    "\n",
    "display(output)"
   ]
  },
  {
   "cell_type": "code",
   "execution_count": null,
   "metadata": {},
   "outputs": [],
   "source": [
    "# You can also access the clicked coordinates directly\n",
    "print(\"Current clicked coordinates:\", m.clicked)\n",
    "\n",
    "# The clicked attribute returns a dict with 'lng' and 'lat' keys\n",
    "# Example: {'lng': -122.34567890, 'lat': 37.1234567890}"
   ]
  },
  {
   "cell_type": "markdown",
   "metadata": {},
   "source": [
    "## Instructions\n",
    "\n",
    "1. Click anywhere on the map above\n",
    "2. The coordinates will be displayed in the output widget\n",
    "3. The `m.clicked` attribute will contain the latest click coordinates as a dictionary with `lng` and `lat` keys\n",
    "4. You can observe changes to the `clicked` attribute using `m.observe(callback, names='clicked')`"
   ]
  }
 ],
 "metadata": {
  "kernelspec": {
   "display_name": "Python 3",
   "language": "python",
   "name": "python3"
  },
  "language_info": {
   "codemirror_mode": {
    "name": "ipython",
    "version": 3
   },
   "file_extension": ".py",
   "mimetype": "text/x-python",
   "name": "python",
   "nbconvert_exporter": "python",
   "pygments_lexer": "ipython3",
   "version": "3.12.2"
  }
 },
 "nbformat": 4,
 "nbformat_minor": 4
}
